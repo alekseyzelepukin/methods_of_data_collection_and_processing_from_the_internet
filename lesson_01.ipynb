{
 "cells": [
  {
   "cell_type": "markdown",
   "metadata": {},
   "source": [
    "#### 1. Выбрать тематику данных: лучшего всего для этого посмотреть, какие сервисы есть в публичном доступе там, откуда вы сможете эти данные собрать. Нам нужны RESTful- и SOAP-сервисы."
   ]
  },
  {
   "cell_type": "markdown",
   "metadata": {
    "ExecuteTime": {
     "end_time": "2019-08-03T10:32:00.625084Z",
     "start_time": "2019-08-03T10:32:00.621095Z"
    }
   },
   "source": [
    "https://api.superjob.ru/\n",
    "\n",
    "Resource information  \n",
    "HTTP Method\tGET/POST/PUT/DELETE  \n",
    "HTTP Protocol\tHTTPS  \n",
    "Текущая версия\t2.0  \n",
    "Кодировка\tUTF-8  \n",
    "Авторизация\tOAuth v.2.0  \n",
    "Формат вывода\tJSON, если не указано иное  \n",
    "Cross-origin resource sharing (CORS)\tПоддерживается для любых доменов  \n",
    "JSONP\tПоддерживается. Передавайте GET-параметр callback  "
   ]
  },
  {
   "cell_type": "markdown",
   "metadata": {},
   "source": [
    "#### 2. Выполнить запрос методом GET к ресурсам, на которых есть данные/информация по выбранной теме, при помощи утилиты curl/приложения Postman/requests в Python. Полученный вывод сохранить в файл."
   ]
  },
  {
   "cell_type": "code",
   "execution_count": 1,
   "metadata": {
    "ExecuteTime": {
     "end_time": "2019-08-04T05:07:31.943569Z",
     "start_time": "2019-08-04T05:07:31.510949Z"
    }
   },
   "outputs": [],
   "source": [
    "import requests"
   ]
  },
  {
   "cell_type": "code",
   "execution_count": 4,
   "metadata": {
    "ExecuteTime": {
     "end_time": "2019-08-04T05:08:30.317540Z",
     "start_time": "2019-08-04T05:08:30.045420Z"
    }
   },
   "outputs": [
    {
     "name": "stdout",
     "output_type": "stream",
     "text": [
      "{'Server': 'nginx/1.15.4', 'Date': 'Sun, 04 Aug 2019 05:08:31 GMT', 'Content-Type': 'application/json; charset=utf-8', 'Transfer-Encoding': 'chunked', 'Connection': 'keep-alive', 'Vary': 'Accept-Encoding', 'Set-Cookie': '_wss=5d46684f; expires=Tue, 19-Jan-2038 03:14:07 GMT; Max-Age=582588336; path=/; domain=superjob.ru, _ws=5d46684f026914440a0a019f5338a2d66dfc0e6b0300000000bc5b700c08cb2a26ac1bc4ee58befc6c27a03c32; expires=Tue, 19-Jan-2038 03:14:07 GMT; Max-Age=582588336; path=/; domain=superjob.ru, testcookie=1564895311; expires=Tue, 19-Jan-2038 03:14:07 GMT; Max-Age=582588336; path=/; domain=superjob.ru', 'Expires': 'Sun, 04 Aug 2019 04:08:31 GMT', 'Last-Modified': 'Sun, 04 Aug 2019 04:03:31 GMT', 'Cache-Control': 'max-age=0, private, proxy-revalidate', 'Pragma': 'no-cache', 'Content-Encoding': 'gzip'}\n"
     ]
    }
   ],
   "source": [
    "with open('secret_key.txt', 'r') as f:\n",
    "    api_key = f.read()\n",
    "    \n",
    "auth_data = {'X-Api-App-Id': api_key}\n",
    "\n",
    "request = 'clients/'\n",
    "\n",
    "r = requests.get('https://api.superjob.ru/2.0/%s' % request, headers=auth_data)\n",
    "\n",
    "headers = r.headers\n",
    "clients = r.json()\n",
    "\n",
    "print(headers)\n",
    "\n",
    "with open('headers.txt', 'w', encoding='utf-8') as f:\n",
    "    f.write(str(headers))"
   ]
  },
  {
   "cell_type": "markdown",
   "metadata": {},
   "source": [
    "#### 3. * Подготовить команду для любого запроса к API, использующему Basic Authorization"
   ]
  },
  {
   "cell_type": "code",
   "execution_count": 5,
   "metadata": {
    "ExecuteTime": {
     "end_time": "2019-08-04T05:08:59.873232Z",
     "start_time": "2019-08-04T05:08:59.281950Z"
    }
   },
   "outputs": [
    {
     "name": "stdout",
     "output_type": "stream",
     "text": [
      "HTTP/1.1 200 OK\n",
      "Cache-Control: max-age=604800\n",
      "Content-Type: text/html; charset=UTF-8\n",
      "Date: Sun, 04 Aug 2019 05:09:00 GMT\n",
      "Etag: \"1541025663+gzip+ident\"\n",
      "Expires: Sun, 11 Aug 2019 05:09:00 GMT\n",
      "Last-Modified: Fri, 09 Aug 2013 23:54:35 GMT\n",
      "Server: ECS (nyb/1D2F)\n",
      "Vary: Accept-Encoding\n",
      "X-Cache: HIT\n",
      "Content-Length: 1270\n",
      "\n",
      "<!doctype html>\n",
      "<html>\n",
      "<head>\n",
      "    <title>Example Domain</title>\n",
      "\n",
      "    <meta charset=\"utf-8\" />\n",
      "    <meta http-equiv=\"Content-type\" content=\"text/html; charset=utf-8\" />\n",
      "    <meta name=\"viewport\" content=\"width=device-width, initial-scale=1\" />\n",
      "    <style type=\"text/css\">\n",
      "    body {\n",
      "        background-color: #f0f0f2;\n",
      "        margin: 0;\n",
      "        padding: 0;\n",
      "        font-family: \"Open Sans\", \"Helvetica Neue\", Helvetica, Arial, sans-serif;\n",
      "        \n",
      "    }\n",
      "    div {\n",
      "        width: 600px;\n",
      "        margin: 5em auto;\n",
      "        padding: 50px;\n",
      "        background-color: #fff;\n",
      "        border-radius: 1em;\n",
      "    }\n",
      "    a:link, a:visited {\n",
      "        color: #38488f;\n",
      "        text-decoration: none;\n",
      "    }\n",
      "    @media (max-width: 700px) {\n",
      "        body {\n",
      "            background-color: #fff;\n",
      "        }\n",
      "        div {\n",
      "            width: auto;\n",
      "            margin: 0 auto;\n",
      "            border-radius: 0;\n",
      "            padding: 1em;\n",
      "        }\n",
      "    }\n",
      "    </style>    \n",
      "</head>\n",
      "\n",
      "<body>\n",
      "<div>\n",
      "    <h1>Example Domain</h1>\n",
      "    <p>This domain is established to be used for illustrative examples in documents. You may use this\n",
      "    domain in examples without prior coordination or asking for permission.</p>\n",
      "    <p><a href=\"http://www.iana.org/domains/example\">More information...</a></p>\n",
      "</div>\n",
      "</body>\n",
      "</html>\n"
     ]
    },
    {
     "name": "stderr",
     "output_type": "stream",
     "text": [
      "curl: (3) URL using bad/illegal format or missing URL\n",
      "  % Total    % Received % Xferd  Average Speed   Time    Time     Time  Current\n",
      "                                 Dload  Upload   Total   Spent    Left  Speed\n",
      "\n",
      "  0     0    0     0    0     0      0      0 --:--:-- --:--:-- --:--:--     0\n",
      "100  1270  100  1270    0     0   3981      0 --:--:-- --:--:-- --:--:--  3993\n"
     ]
    }
   ],
   "source": [
    "# с помощью утилиты curl\n",
    "\n",
    "! curl -i -H 'Accept:application/json' -H 'Authorization:Basic username:password' http://example.com"
   ]
  },
  {
   "cell_type": "code",
   "execution_count": 8,
   "metadata": {
    "ExecuteTime": {
     "end_time": "2019-08-04T05:10:04.978527Z",
     "start_time": "2019-08-04T05:10:04.264105Z"
    }
   },
   "outputs": [
    {
     "name": "stdout",
     "output_type": "stream",
     "text": [
      "{'Content-Encoding': 'gzip', 'Cache-Control': 'max-age=604800', 'Content-Type': 'text/html; charset=UTF-8', 'Date': 'Sun, 04 Aug 2019 05:10:06 GMT', 'Etag': '\"1541025663+gzip\"', 'Expires': 'Sun, 11 Aug 2019 05:10:06 GMT', 'Last-Modified': 'Fri, 09 Aug 2013 23:54:35 GMT', 'Server': 'ECS (nyb/1D2F)', 'Vary': 'Accept-Encoding', 'X-Cache': 'HIT', 'Content-Length': '606'}\n"
     ]
    }
   ],
   "source": [
    "# с помощью python и билиотеки request \n",
    "\n",
    "r = requests.get('https://example.com', auth=requests.auth.HTTPBasicAuth('username', 'password'))\n",
    "\n",
    "headers = r.headers\n",
    "\n",
    "print(headers)"
   ]
  },
  {
   "cell_type": "code",
   "execution_count": null,
   "metadata": {},
   "outputs": [],
   "source": []
  }
 ],
 "metadata": {
  "kernelspec": {
   "display_name": "Python 3",
   "language": "python",
   "name": "python3"
  },
  "language_info": {
   "codemirror_mode": {
    "name": "ipython",
    "version": 3
   },
   "file_extension": ".py",
   "mimetype": "text/x-python",
   "name": "python",
   "nbconvert_exporter": "python",
   "pygments_lexer": "ipython3",
   "version": "3.7.3"
  }
 },
 "nbformat": 4,
 "nbformat_minor": 4
}

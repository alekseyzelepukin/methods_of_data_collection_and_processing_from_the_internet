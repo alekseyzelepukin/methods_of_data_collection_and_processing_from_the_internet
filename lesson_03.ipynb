{
 "cells": [
  {
   "cell_type": "markdown",
   "metadata": {},
   "source": [
    "#### 1. Необходимо собрать информацию о вакансиях на должность программиста или разработчика с сайта job.ru или hh.ru. (Можно с обоих сразу) Приложение должно анализировать несколько страниц сайта. Получившийся список должен содержать в себе:  \n",
    "• Наименование вакансии,  \n",
    "• Предлагаемую зарплату,   \n",
    "• Ссылку на саму вакансию  "
   ]
  },
  {
   "cell_type": "code",
   "execution_count": 1,
   "metadata": {
    "ExecuteTime": {
     "end_time": "2019-08-17T09:25:08.082367Z",
     "start_time": "2019-08-17T09:25:07.045060Z"
    }
   },
   "outputs": [],
   "source": [
    "import pandas as pd\n",
    "import requests\n",
    "import json\n",
    "import re\n",
    "from bs4 import BeautifulSoup as bs\n",
    "from tqdm import tqdm_notebook as tqdm"
   ]
  },
  {
   "cell_type": "code",
   "execution_count": 2,
   "metadata": {
    "ExecuteTime": {
     "end_time": "2019-08-17T09:25:08.108218Z",
     "start_time": "2019-08-17T09:25:08.085277Z"
    }
   },
   "outputs": [],
   "source": [
    "def get_vacancy_salary(vacancy_link):\n",
    "    with requests.session() as s:\n",
    "        r = s.get(vacancy_link)\n",
    "    html = r.text\n",
    "    parsed_html = bs(html, 'html.parser')\n",
    "    meta = parsed_html.find_all('meta', property=\"og:description\")\n",
    "    text = str(meta[0])\n",
    "    parsed_text = re.findall(r'зарплата.+\\.', text.replace(' ', ''))[0]\n",
    "    salary = re.findall(r'\\d+', parsed_text)\n",
    "    if len(salary) == 0:\n",
    "        min_salary, max_salary = 0, 0\n",
    "    elif len(salary) == 1:\n",
    "        min_salary = max_salary = salary[0]\n",
    "    elif len(salary) == 2:\n",
    "        min_salary, max_salary = salary\n",
    "    else:\n",
    "        min_salary, max_salary = 0, 0\n",
    "    return min_salary, max_salary\n",
    "\n",
    "\n",
    "def get_vacancy_info(keywords=[], page_count=1):\n",
    "    if len(keywords) == 0 or page_count < 0:\n",
    "        return\n",
    "    else:\n",
    "        df_list = []\n",
    "        for keyword in tqdm(keywords):\n",
    "            print(f'Keyword: {keyword}')\n",
    "            key = '%20'.join(keyword.split(' ')).capitalize()\n",
    "            for i in tqdm(range(1, page_count+1)):\n",
    "                print(f'Page: {i} of {page_count}')\n",
    "                link = f'https://www.superjob.ru/vacancy/search/?keywords={key}&page={i}'\n",
    "                with requests.session() as s:\n",
    "                    r = s.get(link)\n",
    "                html = r.text\n",
    "                parsed_html = bs(html, 'html.parser')\n",
    "                tags = parsed_html.find_all('a', href=True)\n",
    "                vacancies = {\n",
    "                    'id': [],\n",
    "                    'name': [],\n",
    "                    'min_salary': [],\n",
    "                    'max_salary': [],\n",
    "                    'link': []\n",
    "                }\n",
    "                for tag in tags:\n",
    "                    text = re.findall(r'<a class=\"icMQ_ _1QIBo f-test-link-.+', str(tag))\n",
    "                    if len(text) > 0:\n",
    "                        vacancy_id = re.findall(r'(\\d+)\\.', tag['href'])[0]\n",
    "                        vacancy_name = bs(text[0]).get_text()\n",
    "                        vacancy_link = 'https://www.superjob.ru' + tag['href']\n",
    "                        vacancies['id'].append(vacancy_id)\n",
    "                        vacancies['name'].append(vacancy_name)\n",
    "                        vacancy_min_salary, vacancy_max_salary = get_vacancy_salary(vacancy_link)\n",
    "                        vacancies['min_salary'].append(vacancy_min_salary)\n",
    "                        vacancies['max_salary'].append(vacancy_max_salary)\n",
    "                        vacancies['link'].append(vacancy_link)\n",
    "                    df_temp = pd.DataFrame(vacancies)\n",
    "                df_list.append(df_temp)\n",
    "        return pd.concat(df_list).reset_index(drop=True)\n",
    "    "
   ]
  },
  {
   "cell_type": "code",
   "execution_count": 3,
   "metadata": {
    "ExecuteTime": {
     "end_time": "2019-08-17T09:27:25.687735Z",
     "start_time": "2019-08-17T09:25:08.113203Z"
    }
   },
   "outputs": [
    {
     "data": {
      "application/vnd.jupyter.widget-view+json": {
       "model_id": "4f42fa1f27824cd6955fbc76347043d9",
       "version_major": 2,
       "version_minor": 0
      },
      "text/plain": [
       "HBox(children=(IntProgress(value=0, max=2), HTML(value='')))"
      ]
     },
     "metadata": {},
     "output_type": "display_data"
    },
    {
     "name": "stdout",
     "output_type": "stream",
     "text": [
      "Keyword: программист\n"
     ]
    },
    {
     "data": {
      "application/vnd.jupyter.widget-view+json": {
       "model_id": "9c004b2c495e44bda5ef6e26ba66a176",
       "version_major": 2,
       "version_minor": 0
      },
      "text/plain": [
       "HBox(children=(IntProgress(value=0, max=3), HTML(value='')))"
      ]
     },
     "metadata": {},
     "output_type": "display_data"
    },
    {
     "name": "stdout",
     "output_type": "stream",
     "text": [
      "Page: 1 of 3\n",
      "Page: 2 of 3\n",
      "Page: 3 of 3\n",
      "Keyword: разработчик\n"
     ]
    },
    {
     "data": {
      "application/vnd.jupyter.widget-view+json": {
       "model_id": "1a1d894e9dba49c0b7f1d7bd6098f33f",
       "version_major": 2,
       "version_minor": 0
      },
      "text/plain": [
       "HBox(children=(IntProgress(value=0, max=3), HTML(value='')))"
      ]
     },
     "metadata": {},
     "output_type": "display_data"
    },
    {
     "name": "stdout",
     "output_type": "stream",
     "text": [
      "Page: 1 of 3\n",
      "Page: 2 of 3\n",
      "Page: 3 of 3\n",
      "\n"
     ]
    }
   ],
   "source": [
    "df = get_vacancy_info(keywords=['программист', 'разработчик'], page_count=3)"
   ]
  },
  {
   "cell_type": "code",
   "execution_count": 4,
   "metadata": {
    "ExecuteTime": {
     "end_time": "2019-08-17T09:27:25.726631Z",
     "start_time": "2019-08-17T09:27:25.690727Z"
    }
   },
   "outputs": [
    {
     "data": {
      "text/html": [
       "<div>\n",
       "<style scoped>\n",
       "    .dataframe tbody tr th:only-of-type {\n",
       "        vertical-align: middle;\n",
       "    }\n",
       "\n",
       "    .dataframe tbody tr th {\n",
       "        vertical-align: top;\n",
       "    }\n",
       "\n",
       "    .dataframe thead th {\n",
       "        text-align: right;\n",
       "    }\n",
       "</style>\n",
       "<table border=\"1\" class=\"dataframe\">\n",
       "  <thead>\n",
       "    <tr style=\"text-align: right;\">\n",
       "      <th></th>\n",
       "      <th>id</th>\n",
       "      <th>name</th>\n",
       "      <th>min_salary</th>\n",
       "      <th>max_salary</th>\n",
       "      <th>link</th>\n",
       "    </tr>\n",
       "  </thead>\n",
       "  <tbody>\n",
       "    <tr>\n",
       "      <th>0</th>\n",
       "      <td>32363006</td>\n",
       "      <td>Программист 1С</td>\n",
       "      <td>100000</td>\n",
       "      <td>100000</td>\n",
       "      <td>https://www.superjob.ru/vakansii/programmist-1...</td>\n",
       "    </tr>\n",
       "    <tr>\n",
       "      <th>1</th>\n",
       "      <td>32253050</td>\n",
       "      <td>Инженер-программист</td>\n",
       "      <td>0</td>\n",
       "      <td>0</td>\n",
       "      <td>https://www.superjob.ru/vakansii/inzhener-prog...</td>\n",
       "    </tr>\n",
       "    <tr>\n",
       "      <th>2</th>\n",
       "      <td>32066066</td>\n",
       "      <td>Программист-разработчик 1С</td>\n",
       "      <td>120000</td>\n",
       "      <td>120000</td>\n",
       "      <td>https://www.superjob.ru/vakansii/programmist-r...</td>\n",
       "    </tr>\n",
       "    <tr>\n",
       "      <th>3</th>\n",
       "      <td>32171279</td>\n",
       "      <td>Инженер-программист C#</td>\n",
       "      <td>80000</td>\n",
       "      <td>120000</td>\n",
       "      <td>https://www.superjob.ru/vakansii/inzhener-prog...</td>\n",
       "    </tr>\n",
       "    <tr>\n",
       "      <th>4</th>\n",
       "      <td>31987085</td>\n",
       "      <td>Программист</td>\n",
       "      <td>0</td>\n",
       "      <td>0</td>\n",
       "      <td>https://www.superjob.ru/vakansii/programmist-3...</td>\n",
       "    </tr>\n",
       "    <tr>\n",
       "      <th>5</th>\n",
       "      <td>31614437</td>\n",
       "      <td>Web-программист</td>\n",
       "      <td>70000</td>\n",
       "      <td>100000</td>\n",
       "      <td>https://www.superjob.ru/vakansii/web-programmi...</td>\n",
       "    </tr>\n",
       "    <tr>\n",
       "      <th>6</th>\n",
       "      <td>32327168</td>\n",
       "      <td>Программист Android 4.2 (технологии DI, SQLite)</td>\n",
       "      <td>0</td>\n",
       "      <td>0</td>\n",
       "      <td>https://www.superjob.ru/vakansii/programmist-a...</td>\n",
       "    </tr>\n",
       "    <tr>\n",
       "      <th>7</th>\n",
       "      <td>30873935</td>\n",
       "      <td>Программист SQL</td>\n",
       "      <td>90000</td>\n",
       "      <td>90000</td>\n",
       "      <td>https://www.superjob.ru/vakansii/programmist-s...</td>\n",
       "    </tr>\n",
       "    <tr>\n",
       "      <th>8</th>\n",
       "      <td>31536337</td>\n",
       "      <td>Программист-стажер</td>\n",
       "      <td>50000</td>\n",
       "      <td>70000</td>\n",
       "      <td>https://www.superjob.ru/vakansii/programmist-s...</td>\n",
       "    </tr>\n",
       "    <tr>\n",
       "      <th>9</th>\n",
       "      <td>32407139</td>\n",
       "      <td>Инженер-программист</td>\n",
       "      <td>80000</td>\n",
       "      <td>80000</td>\n",
       "      <td>https://www.superjob.ru/vakansii/inzhener-prog...</td>\n",
       "    </tr>\n",
       "  </tbody>\n",
       "</table>\n",
       "</div>"
      ],
      "text/plain": [
       "         id                                             name min_salary  \\\n",
       "0  32363006                                   Программист 1С     100000   \n",
       "1  32253050                              Инженер-программист          0   \n",
       "2  32066066                       Программист-разработчик 1С     120000   \n",
       "3  32171279                           Инженер-программист C#      80000   \n",
       "4  31987085                                      Программист          0   \n",
       "5  31614437                                  Web-программист      70000   \n",
       "6  32327168  Программист Android 4.2 (технологии DI, SQLite)          0   \n",
       "7  30873935                                  Программист SQL      90000   \n",
       "8  31536337                               Программист-стажер      50000   \n",
       "9  32407139                              Инженер-программист      80000   \n",
       "\n",
       "  max_salary                                               link  \n",
       "0     100000  https://www.superjob.ru/vakansii/programmist-1...  \n",
       "1          0  https://www.superjob.ru/vakansii/inzhener-prog...  \n",
       "2     120000  https://www.superjob.ru/vakansii/programmist-r...  \n",
       "3     120000  https://www.superjob.ru/vakansii/inzhener-prog...  \n",
       "4          0  https://www.superjob.ru/vakansii/programmist-3...  \n",
       "5     100000  https://www.superjob.ru/vakansii/web-programmi...  \n",
       "6          0  https://www.superjob.ru/vakansii/programmist-a...  \n",
       "7      90000  https://www.superjob.ru/vakansii/programmist-s...  \n",
       "8      70000  https://www.superjob.ru/vakansii/programmist-s...  \n",
       "9      80000  https://www.superjob.ru/vakansii/inzhener-prog...  "
      ]
     },
     "execution_count": 4,
     "metadata": {},
     "output_type": "execute_result"
    }
   ],
   "source": [
    "df.head(10)"
   ]
  },
  {
   "cell_type": "markdown",
   "metadata": {},
   "source": [
    "#### 2. Доработать приложение таким образом, чтобы можно было искать разработчиков на разные языки программирования (Например Python, Java, C++)"
   ]
  },
  {
   "cell_type": "code",
   "execution_count": 5,
   "metadata": {
    "ExecuteTime": {
     "end_time": "2019-08-17T09:28:18.590229Z",
     "start_time": "2019-08-17T09:27:25.729623Z"
    }
   },
   "outputs": [
    {
     "data": {
      "application/vnd.jupyter.widget-view+json": {
       "model_id": "d6b21b2bfb8241deba41ff8188d2ec5d",
       "version_major": 2,
       "version_minor": 0
      },
      "text/plain": [
       "HBox(children=(IntProgress(value=0, max=3), HTML(value='')))"
      ]
     },
     "metadata": {},
     "output_type": "display_data"
    },
    {
     "name": "stdout",
     "output_type": "stream",
     "text": [
      "Keyword: Разработчик Python\n"
     ]
    },
    {
     "data": {
      "application/vnd.jupyter.widget-view+json": {
       "model_id": "7d7c18792c714c05a1b3c1be826ebd1e",
       "version_major": 2,
       "version_minor": 0
      },
      "text/plain": [
       "HBox(children=(IntProgress(value=0, max=3), HTML(value='')))"
      ]
     },
     "metadata": {},
     "output_type": "display_data"
    },
    {
     "name": "stdout",
     "output_type": "stream",
     "text": [
      "Page: 1 of 3\n",
      "Page: 2 of 3\n",
      "Page: 3 of 3\n",
      "Keyword: Разработчик Java\n"
     ]
    },
    {
     "data": {
      "application/vnd.jupyter.widget-view+json": {
       "model_id": "f83c87180eea49288c39cf8a0d83f4e1",
       "version_major": 2,
       "version_minor": 0
      },
      "text/plain": [
       "HBox(children=(IntProgress(value=0, max=3), HTML(value='')))"
      ]
     },
     "metadata": {},
     "output_type": "display_data"
    },
    {
     "name": "stdout",
     "output_type": "stream",
     "text": [
      "Page: 1 of 3\n",
      "Page: 2 of 3\n",
      "Page: 3 of 3\n",
      "Keyword: Разработчик C++\n"
     ]
    },
    {
     "data": {
      "application/vnd.jupyter.widget-view+json": {
       "model_id": "f842768e3ae14766ba54daeba0537f57",
       "version_major": 2,
       "version_minor": 0
      },
      "text/plain": [
       "HBox(children=(IntProgress(value=0, max=3), HTML(value='')))"
      ]
     },
     "metadata": {},
     "output_type": "display_data"
    },
    {
     "name": "stdout",
     "output_type": "stream",
     "text": [
      "Page: 1 of 3\n",
      "Page: 2 of 3\n",
      "Page: 3 of 3\n",
      "\n"
     ]
    }
   ],
   "source": [
    "df = get_vacancy_info(keywords=['Разработчик Python', 'Разработчик Java', 'Разработчик C++'], page_count=3)"
   ]
  },
  {
   "cell_type": "code",
   "execution_count": 6,
   "metadata": {
    "ExecuteTime": {
     "end_time": "2019-08-17T09:28:18.614164Z",
     "start_time": "2019-08-17T09:28:18.592224Z"
    }
   },
   "outputs": [
    {
     "data": {
      "text/html": [
       "<div>\n",
       "<style scoped>\n",
       "    .dataframe tbody tr th:only-of-type {\n",
       "        vertical-align: middle;\n",
       "    }\n",
       "\n",
       "    .dataframe tbody tr th {\n",
       "        vertical-align: top;\n",
       "    }\n",
       "\n",
       "    .dataframe thead th {\n",
       "        text-align: right;\n",
       "    }\n",
       "</style>\n",
       "<table border=\"1\" class=\"dataframe\">\n",
       "  <thead>\n",
       "    <tr style=\"text-align: right;\">\n",
       "      <th></th>\n",
       "      <th>id</th>\n",
       "      <th>name</th>\n",
       "      <th>min_salary</th>\n",
       "      <th>max_salary</th>\n",
       "      <th>link</th>\n",
       "    </tr>\n",
       "  </thead>\n",
       "  <tbody>\n",
       "    <tr>\n",
       "      <th>0</th>\n",
       "      <td>32360537</td>\n",
       "      <td>Аналитик-разработчик Python</td>\n",
       "      <td>0</td>\n",
       "      <td>0</td>\n",
       "      <td>https://www.superjob.ru/vakansii/analitik-razr...</td>\n",
       "    </tr>\n",
       "    <tr>\n",
       "      <th>1</th>\n",
       "      <td>32214239</td>\n",
       "      <td>Разработчик аналитической отчетности</td>\n",
       "      <td>0</td>\n",
       "      <td>0</td>\n",
       "      <td>https://www.superjob.ru/vakansii/razrabotchik-...</td>\n",
       "    </tr>\n",
       "    <tr>\n",
       "      <th>2</th>\n",
       "      <td>32357029</td>\n",
       "      <td>Python developer</td>\n",
       "      <td>0</td>\n",
       "      <td>0</td>\n",
       "      <td>https://www.superjob.ru/vakansii/python-develo...</td>\n",
       "    </tr>\n",
       "    <tr>\n",
       "      <th>3</th>\n",
       "      <td>29723693</td>\n",
       "      <td>Web-программист / Web-разработчик</td>\n",
       "      <td>170000</td>\n",
       "      <td>170000</td>\n",
       "      <td>https://www.superjob.ru/vakansii/web-programmi...</td>\n",
       "    </tr>\n",
       "    <tr>\n",
       "      <th>4</th>\n",
       "      <td>32355383</td>\n",
       "      <td>Web-разработчик</td>\n",
       "      <td>70000</td>\n",
       "      <td>70000</td>\n",
       "      <td>https://www.superjob.ru/vakansii/web-razrabotc...</td>\n",
       "    </tr>\n",
       "    <tr>\n",
       "      <th>5</th>\n",
       "      <td>32266222</td>\n",
       "      <td>Web-программист, Web-разработчик</td>\n",
       "      <td>0</td>\n",
       "      <td>0</td>\n",
       "      <td>https://www.superjob.ru/vakansii/web-programmi...</td>\n",
       "    </tr>\n",
       "    <tr>\n",
       "      <th>6</th>\n",
       "      <td>32392624</td>\n",
       "      <td>Web-разработчик</td>\n",
       "      <td>70000</td>\n",
       "      <td>120000</td>\n",
       "      <td>https://www.superjob.ru/vakansii/web-razrabotc...</td>\n",
       "    </tr>\n",
       "    <tr>\n",
       "      <th>7</th>\n",
       "      <td>32203665</td>\n",
       "      <td>Web-разработчик (PHP, YII2)</td>\n",
       "      <td>126500</td>\n",
       "      <td>126500</td>\n",
       "      <td>https://www.superjob.ru/vakansii/web-razrabotc...</td>\n",
       "    </tr>\n",
       "    <tr>\n",
       "      <th>8</th>\n",
       "      <td>31478639</td>\n",
       "      <td>Web-разработчик</td>\n",
       "      <td>80000</td>\n",
       "      <td>90000</td>\n",
       "      <td>https://www.superjob.ru/vakansii/web-razrabotc...</td>\n",
       "    </tr>\n",
       "    <tr>\n",
       "      <th>9</th>\n",
       "      <td>31035766</td>\n",
       "      <td>Программист на python</td>\n",
       "      <td>0</td>\n",
       "      <td>0</td>\n",
       "      <td>https://www.superjob.ru/vakansii/programmist-n...</td>\n",
       "    </tr>\n",
       "  </tbody>\n",
       "</table>\n",
       "</div>"
      ],
      "text/plain": [
       "         id                                  name min_salary max_salary  \\\n",
       "0  32360537           Аналитик-разработчик Python          0          0   \n",
       "1  32214239  Разработчик аналитической отчетности          0          0   \n",
       "2  32357029                      Python developer          0          0   \n",
       "3  29723693     Web-программист / Web-разработчик     170000     170000   \n",
       "4  32355383                       Web-разработчик      70000      70000   \n",
       "5  32266222      Web-программист, Web-разработчик          0          0   \n",
       "6  32392624                       Web-разработчик      70000     120000   \n",
       "7  32203665           Web-разработчик (PHP, YII2)     126500     126500   \n",
       "8  31478639                       Web-разработчик      80000      90000   \n",
       "9  31035766                 Программист на python          0          0   \n",
       "\n",
       "                                                link  \n",
       "0  https://www.superjob.ru/vakansii/analitik-razr...  \n",
       "1  https://www.superjob.ru/vakansii/razrabotchik-...  \n",
       "2  https://www.superjob.ru/vakansii/python-develo...  \n",
       "3  https://www.superjob.ru/vakansii/web-programmi...  \n",
       "4  https://www.superjob.ru/vakansii/web-razrabotc...  \n",
       "5  https://www.superjob.ru/vakansii/web-programmi...  \n",
       "6  https://www.superjob.ru/vakansii/web-razrabotc...  \n",
       "7  https://www.superjob.ru/vakansii/web-razrabotc...  \n",
       "8  https://www.superjob.ru/vakansii/web-razrabotc...  \n",
       "9  https://www.superjob.ru/vakansii/programmist-n...  "
      ]
     },
     "execution_count": 6,
     "metadata": {},
     "output_type": "execute_result"
    }
   ],
   "source": [
    "df.head(10)"
   ]
  },
  {
   "cell_type": "code",
   "execution_count": null,
   "metadata": {},
   "outputs": [],
   "source": []
  }
 ],
 "metadata": {
  "kernelspec": {
   "display_name": "Python 3",
   "language": "python",
   "name": "python3"
  },
  "language_info": {
   "codemirror_mode": {
    "name": "ipython",
    "version": 3
   },
   "file_extension": ".py",
   "mimetype": "text/x-python",
   "name": "python",
   "nbconvert_exporter": "python",
   "pygments_lexer": "ipython3",
   "version": "3.7.3"
  }
 },
 "nbformat": 4,
 "nbformat_minor": 2
}

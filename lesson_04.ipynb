{
 "cells": [
  {
   "cell_type": "markdown",
   "metadata": {},
   "source": [
    "#### 1. Модифицировать приложение из предыдущего домашнего задания:\n",
    "- приложение должно собирать вакансии сразу с двух сайтов hh.ru и superjob.ru \n",
    "- собранные данные должны быть приведены к общей структуре\n",
    "- разделить зарплату на две составляющие (мин. и макс.) и сохранить в виде int. Если валюта указана другая, привести все к рублям. "
   ]
  },
  {
   "cell_type": "code",
   "execution_count": 1,
   "metadata": {
    "ExecuteTime": {
     "end_time": "2019-08-19T19:31:00.631491Z",
     "start_time": "2019-08-19T19:30:58.914767Z"
    }
   },
   "outputs": [],
   "source": [
    "import pandas as pd\n",
    "import requests\n",
    "import json\n",
    "import re\n",
    "import hashlib\n",
    "from bs4 import BeautifulSoup as bs\n",
    "from pprint import pprint"
   ]
  },
  {
   "cell_type": "code",
   "execution_count": 2,
   "metadata": {
    "ExecuteTime": {
     "end_time": "2019-08-19T19:31:00.645333Z",
     "start_time": "2019-08-19T19:31:00.637355Z"
    }
   },
   "outputs": [],
   "source": [
    "def get_html(link, headers):\n",
    "    with requests.session() as s:\n",
    "        r = s.get(link, headers=headers)\n",
    "    if r.status_code == 200:\n",
    "        return r.text\n",
    "    else:\n",
    "        return False"
   ]
  },
  {
   "cell_type": "code",
   "execution_count": 3,
   "metadata": {
    "ExecuteTime": {
     "end_time": "2019-08-19T19:31:00.691218Z",
     "start_time": "2019-08-19T19:31:00.648326Z"
    }
   },
   "outputs": [],
   "source": [
    "def get_hh_vacancies(search_queries=[], page_count=1, headers={'User-agent': 'Mozilla/5.0'}):\n",
    "\n",
    "    def get_salary_info(link, headers):\n",
    "        html = get_html(link, headers)\n",
    "        _min_salary, _max_salary = 0, 0\n",
    "        if html:\n",
    "            soup = bs(html, 'html.parser')\n",
    "            tags = soup.find_all('p', class_='vacancy-salary')\n",
    "            _salary = re.findall(r'\\d+', re.sub(r'\\s', '', bs(str(tags[0])).get_text()))\n",
    "            if len(_salary) == 0:\n",
    "                pass\n",
    "            elif len(_salary) == 1:\n",
    "                _min_salary = _max_salary = _salary[0]\n",
    "            elif len(_salary) == 2:\n",
    "                _min_salary,  _max_salary = _salary\n",
    "            else:\n",
    "                pass\n",
    "            return _min_salary, _max_salary\n",
    "        else:\n",
    "            return _min_salary, _max_salary\n",
    "\n",
    "    def get_vacancy_info(search_queries, page_count, headers):\n",
    "        if len(search_queries) > 0:\n",
    "            _df_list = []\n",
    "            for search_query in search_queries:\n",
    "                text = '+'.join(search_query.split(' ')).capitalize()\n",
    "                for i in range(page_count):\n",
    "                    link = f'https://hh.ru/search/vacancy?area=1&text={text}&page={i}'\n",
    "                    html = get_html(link, headers)\n",
    "                    if html:\n",
    "                        soup = bs(html, 'html.parser')\n",
    "                        tags = soup.find_all('a', class_='bloko-link HH-LinkModifier')\n",
    "                        _vacancies = {\n",
    "                            'id': [],\n",
    "                            'name': [],\n",
    "                            'min_salary': [],\n",
    "                            'max_salary': [],\n",
    "                            'link': []\n",
    "                        }\n",
    "                        for tag in tags:\n",
    "                            _id = 'hh' + re.findall(r'(\\d+)\\??', tag['href'])[0]\n",
    "                            # _name = bs(str(tag)).get_text()\n",
    "                            _name = tag.get_text()\n",
    "                            _min_salary, _max_salary = get_salary_info(tag['href'], headers)\n",
    "                            _link = tag['href']\n",
    "                            _vacancies['id'].append(hashlib.sha256(_id.encode('utf-8')).hexdigest())\n",
    "                            _vacancies['name'].append(_name)\n",
    "                            _vacancies['min_salary'].append(_min_salary)\n",
    "                            _vacancies['max_salary'].append(_max_salary)\n",
    "                            _vacancies['link'].append(_link)\n",
    "                        _df_temp = pd.DataFrame(_vacancies)\n",
    "                    else:\n",
    "                        return False\n",
    "                    _df_list.append(_df_temp)\n",
    "            return pd.concat(_df_list).drop_duplicates(subset='id').reset_index(drop=True)\n",
    "        else:\n",
    "            return False\n",
    "        \n",
    "    return get_vacancy_info(search_queries, page_count, headers)\n"
   ]
  },
  {
   "cell_type": "code",
   "execution_count": 10,
   "metadata": {
    "ExecuteTime": {
     "end_time": "2019-08-19T19:37:18.536438Z",
     "start_time": "2019-08-19T19:37:18.514501Z"
    }
   },
   "outputs": [],
   "source": [
    "def get_superjob_vacancies(search_queries=[], page_count=1, headers={'User-agent': 'Mozilla/5.0'}):\n",
    "\n",
    "    def get_salary_info(link, headers):\n",
    "        html = get_html(link, headers)\n",
    "        _min_salary, _max_salary = 0, 0\n",
    "        html = get_html(link, headers)\n",
    "        if html:\n",
    "            soup = bs(html, 'html.parser')\n",
    "            tags = soup.find_all('meta', property=\"og:description\")\n",
    "            _salary = re.findall(r'\\d+', re.findall(r'зарплата.+\\.', re.sub(r'\\s', '', tags[0]['content']))[0])\n",
    "            if len(_salary) == 0:\n",
    "                pass\n",
    "            elif len(_salary) == 1:\n",
    "                _min_salary = _max_salary = _salary[0]\n",
    "            elif len(_salary) == 2:\n",
    "                _min_salary,  _max_salary = _salary\n",
    "            else:\n",
    "                pass\n",
    "            return _min_salary, _max_salary\n",
    "        else:\n",
    "            return _min_salary, _max_salary\n",
    "\n",
    "    def get_vacancy_info(search_queries, page_count, headers):\n",
    "        if len(search_queries) > 0:\n",
    "            _df_list = []\n",
    "            for search_query in search_queries:\n",
    "                text = '%20'.join(search_query.split(' ')).capitalize()\n",
    "                for i in range(1, page_count+1):\n",
    "                    link = f'https://www.superjob.ru/vacancy/search/?geo%5Bt%5D%5B0%5D=4&keywords={text}&page={i}'\n",
    "                    html = get_html(link, headers)\n",
    "                    if html:\n",
    "                        soup = bs(html, 'html.parser')\n",
    "                        tags = soup.find_all('a', href=True)\n",
    "                        _vacancies = {\n",
    "                            'id': [],\n",
    "                            'name': [],\n",
    "                            'min_salary': [],\n",
    "                            'max_salary': [],\n",
    "                            'link': []\n",
    "                        }\n",
    "                        for tag in tags:\n",
    "                            if len(re.findall(r'<a class=\"icMQ_ _1QIBo f-test-link-.+', str(tag))) > 0:\n",
    "                                _id = 'sj' + re.findall(r'(\\d+)\\.', tag['href'])[0]\n",
    "                                _name = tag.get_text()\n",
    "                                _min_salary, _max_salary = get_salary_info('https://www.superjob.ru' + tag['href'], headers)\n",
    "                                _link = 'https://www.superjob.ru' + tag['href']\n",
    "                                _vacancies['id'].append(hashlib.sha256(_id.encode('utf-8')).hexdigest())\n",
    "                                _vacancies['name'].append(_name)\n",
    "                                _vacancies['min_salary'].append(_min_salary)\n",
    "                                _vacancies['max_salary'].append(_max_salary)\n",
    "                                _vacancies['link'].append(_link)\n",
    "                        _df_temp = pd.DataFrame(_vacancies)\n",
    "                    else:\n",
    "                        return False\n",
    "                    _df_list.append(_df_temp)\n",
    "            return pd.concat(_df_list).drop_duplicates(subset='id').reset_index(drop=True)\n",
    "        else:\n",
    "            return False\n",
    "\n",
    "    return get_vacancy_info(search_queries, page_count, headers)\n"
   ]
  },
  {
   "cell_type": "code",
   "execution_count": 11,
   "metadata": {
    "ExecuteTime": {
     "end_time": "2019-08-19T19:37:43.838794Z",
     "start_time": "2019-08-19T19:37:43.814856Z"
    }
   },
   "outputs": [],
   "source": [
    "def get_vacancies(search_queries=[], page_count=1, headers={'User-agent': 'Mozilla/5.0'}):\n",
    "\n",
    "    try:\n",
    "        \n",
    "        hh = get_hh_vacancies(search_queries, page_count, headers)\n",
    "        superjob = get_superjob_vacancies(search_queries, page_count, headers)\n",
    "\n",
    "        if isinstance(hh, pd.DataFrame) and isinstance(superjob, pd.DataFrame):\n",
    "            hh['min_salary'] = hh['min_salary'].astype(int)\n",
    "            hh['max_salary'] = hh['max_salary'].astype(int)\n",
    "            hh['source'] = 'hh'\n",
    "            superjob['min_salary'] = superjob['min_salary'].astype(int)\n",
    "            superjob['max_salary'] = superjob['max_salary'].astype(int)\n",
    "            superjob['source'] = 'superjob'\n",
    "            return pd.concat([hh, superjob])\n",
    "        else:\n",
    "            return 'Something go wrong..'\n",
    "        \n",
    "    except:\n",
    "        \n",
    "        return 'Something go wrong..'"
   ]
  },
  {
   "cell_type": "code",
   "execution_count": 12,
   "metadata": {
    "ExecuteTime": {
     "end_time": "2019-08-19T19:40:00.084239Z",
     "start_time": "2019-08-19T19:37:45.306771Z"
    }
   },
   "outputs": [],
   "source": [
    "search_queries = ['программист', 'разработчик']\n",
    "df = get_vacancies(search_queries, page_count=1)"
   ]
  },
  {
   "cell_type": "code",
   "execution_count": 13,
   "metadata": {
    "ExecuteTime": {
     "end_time": "2019-08-19T19:40:00.115038Z",
     "start_time": "2019-08-19T19:40:00.087107Z"
    }
   },
   "outputs": [
    {
     "data": {
      "text/html": [
       "<div>\n",
       "<style scoped>\n",
       "    .dataframe tbody tr th:only-of-type {\n",
       "        vertical-align: middle;\n",
       "    }\n",
       "\n",
       "    .dataframe tbody tr th {\n",
       "        vertical-align: top;\n",
       "    }\n",
       "\n",
       "    .dataframe thead th {\n",
       "        text-align: right;\n",
       "    }\n",
       "</style>\n",
       "<table border=\"1\" class=\"dataframe\">\n",
       "  <thead>\n",
       "    <tr style=\"text-align: right;\">\n",
       "      <th></th>\n",
       "      <th>id</th>\n",
       "      <th>name</th>\n",
       "      <th>min_salary</th>\n",
       "      <th>max_salary</th>\n",
       "      <th>link</th>\n",
       "      <th>source</th>\n",
       "    </tr>\n",
       "  </thead>\n",
       "  <tbody>\n",
       "    <tr>\n",
       "      <th>0</th>\n",
       "      <td>4dfb9a2a504562f1ae9a44d599b8e961f483b8045c0264...</td>\n",
       "      <td>Full-Stack Разработчик JavaScript (Node.js + A...</td>\n",
       "      <td>120000</td>\n",
       "      <td>120000</td>\n",
       "      <td>https://hh.ru/vacancy/32859767?query=%D0%9F%D1...</td>\n",
       "      <td>hh</td>\n",
       "    </tr>\n",
       "    <tr>\n",
       "      <th>1</th>\n",
       "      <td>e909bfa7060003ed025147907b66872f84c17cc9047175...</td>\n",
       "      <td>Web-программист/PHP-программист</td>\n",
       "      <td>0</td>\n",
       "      <td>0</td>\n",
       "      <td>https://hh.ru/vacancy/32728996?query=%D0%9F%D1...</td>\n",
       "      <td>hh</td>\n",
       "    </tr>\n",
       "    <tr>\n",
       "      <th>2</th>\n",
       "      <td>fff950fe5cc0942dfc5d4780a800e49637d450deb6d562...</td>\n",
       "      <td>Программист C/С++</td>\n",
       "      <td>80000</td>\n",
       "      <td>120000</td>\n",
       "      <td>https://hh.ru/vacancy/32666256?query=%D0%9F%D1...</td>\n",
       "      <td>hh</td>\n",
       "    </tr>\n",
       "    <tr>\n",
       "      <th>3</th>\n",
       "      <td>519f828a46f16331e48a5cf9090d71d646b55223553f6b...</td>\n",
       "      <td>Программист (C#\\ ASP.NET\\MVC)</td>\n",
       "      <td>100000</td>\n",
       "      <td>100000</td>\n",
       "      <td>https://hh.ru/vacancy/33036570?query=%D0%9F%D1...</td>\n",
       "      <td>hh</td>\n",
       "    </tr>\n",
       "    <tr>\n",
       "      <th>4</th>\n",
       "      <td>7928c9bda1b8f2081020d37c817bd776bab6b5a2262715...</td>\n",
       "      <td>Middle PHP-разработчик/Программист (Bitrix)</td>\n",
       "      <td>100000</td>\n",
       "      <td>120000</td>\n",
       "      <td>https://hh.ru/vacancy/31746332?query=%D0%9F%D1...</td>\n",
       "      <td>hh</td>\n",
       "    </tr>\n",
       "  </tbody>\n",
       "</table>\n",
       "</div>"
      ],
      "text/plain": [
       "                                                  id  \\\n",
       "0  4dfb9a2a504562f1ae9a44d599b8e961f483b8045c0264...   \n",
       "1  e909bfa7060003ed025147907b66872f84c17cc9047175...   \n",
       "2  fff950fe5cc0942dfc5d4780a800e49637d450deb6d562...   \n",
       "3  519f828a46f16331e48a5cf9090d71d646b55223553f6b...   \n",
       "4  7928c9bda1b8f2081020d37c817bd776bab6b5a2262715...   \n",
       "\n",
       "                                                name  min_salary  max_salary  \\\n",
       "0  Full-Stack Разработчик JavaScript (Node.js + A...      120000      120000   \n",
       "1                    Web-программист/PHP-программист           0           0   \n",
       "2                                  Программист C/С++       80000      120000   \n",
       "3                      Программист (C#\\ ASP.NET\\MVC)      100000      100000   \n",
       "4        Middle PHP-разработчик/Программист (Bitrix)      100000      120000   \n",
       "\n",
       "                                                link source  \n",
       "0  https://hh.ru/vacancy/32859767?query=%D0%9F%D1...     hh  \n",
       "1  https://hh.ru/vacancy/32728996?query=%D0%9F%D1...     hh  \n",
       "2  https://hh.ru/vacancy/32666256?query=%D0%9F%D1...     hh  \n",
       "3  https://hh.ru/vacancy/33036570?query=%D0%9F%D1...     hh  \n",
       "4  https://hh.ru/vacancy/31746332?query=%D0%9F%D1...     hh  "
      ]
     },
     "execution_count": 13,
     "metadata": {},
     "output_type": "execute_result"
    }
   ],
   "source": [
    "df.head()"
   ]
  },
  {
   "cell_type": "markdown",
   "metadata": {},
   "source": [
    "#### 2. Реализовать сохранение полученных вакансий в СУБД (на выбор SQLite или MongoDB)"
   ]
  },
  {
   "cell_type": "code",
   "execution_count": 16,
   "metadata": {
    "ExecuteTime": {
     "end_time": "2019-08-19T19:50:47.606546Z",
     "start_time": "2019-08-19T19:50:47.370787Z"
    }
   },
   "outputs": [],
   "source": [
    "from pymongo import MongoClient"
   ]
  },
  {
   "cell_type": "code",
   "execution_count": 17,
   "metadata": {
    "ExecuteTime": {
     "end_time": "2019-08-19T19:50:47.980698Z",
     "start_time": "2019-08-19T19:50:47.972720Z"
    }
   },
   "outputs": [],
   "source": [
    "def save_to_db(data_frame, db_name):\n",
    "    try:\n",
    "        \n",
    "        client = MongoClient('mongodb://127.0.0.1:27017')\n",
    "        db = client[db_name]\n",
    "        \n",
    "        data = data_frame.to_dict('records')\n",
    "        \n",
    "        for item in data:\n",
    "            objects = db.vacancydb.find({'id': item['id']})\n",
    "            if len(list(objects)) == 0:\n",
    "                db.vacancydb.insert_one(item)\n",
    "        \n",
    "        return f'Data saved to: {db_name}'\n",
    "        \n",
    "    except:\n",
    "    \n",
    "        return 'Something go wrong..'"
   ]
  },
  {
   "cell_type": "code",
   "execution_count": 21,
   "metadata": {
    "ExecuteTime": {
     "end_time": "2019-08-19T19:51:52.240033Z",
     "start_time": "2019-08-19T19:51:52.210109Z"
    }
   },
   "outputs": [
    {
     "data": {
      "text/plain": [
       "'id_1'"
      ]
     },
     "execution_count": 21,
     "metadata": {},
     "output_type": "execute_result"
    }
   ],
   "source": [
    "db_name = 'vacancydb'\n",
    "\n",
    "client = MongoClient('mongodb://127.0.0.1:27017')\n",
    "db = client[db_name]\n",
    "db.vacancydb.create_index('id', unique=True)"
   ]
  },
  {
   "cell_type": "code",
   "execution_count": 22,
   "metadata": {
    "ExecuteTime": {
     "end_time": "2019-08-19T19:51:57.742666Z",
     "start_time": "2019-08-19T19:51:57.621976Z"
    }
   },
   "outputs": [
    {
     "data": {
      "text/plain": [
       "'Data saved to: vacancydb'"
      ]
     },
     "execution_count": 22,
     "metadata": {},
     "output_type": "execute_result"
    }
   ],
   "source": [
    "save_to_db(data_frame=df, db_name=db_name)"
   ]
  },
  {
   "cell_type": "markdown",
   "metadata": {},
   "source": [
    "#### 3.Написать функцию, которая производит поиск и выводит на экран вакансии с заработной платой больше введенной суммы."
   ]
  },
  {
   "cell_type": "code",
   "execution_count": 26,
   "metadata": {
    "ExecuteTime": {
     "end_time": "2019-08-19T19:53:05.516905Z",
     "start_time": "2019-08-19T19:53:05.510919Z"
    }
   },
   "outputs": [],
   "source": [
    "def search_in_db(db_name, min_value):\n",
    "    client = MongoClient('mongodb://127.0.0.1:27017')\n",
    "    db = client[db_name]\n",
    "    objects = db.vacancydb.find({'min_salary': {'$gt': min_value}})\n",
    "    return list(objects)"
   ]
  },
  {
   "cell_type": "code",
   "execution_count": 30,
   "metadata": {
    "ExecuteTime": {
     "end_time": "2019-08-19T19:53:23.947428Z",
     "start_time": "2019-08-19T19:53:23.934462Z"
    }
   },
   "outputs": [
    {
     "data": {
      "text/plain": [
       "[{'_id': ObjectId('5d5afddd30c104b5b6a3f87c'),\n",
       "  'id': 'ceeaf3d19841cf41bcbd8974232e78b44d194e73726f222805b2424676d5ed47',\n",
       "  'name': 'Senior Front-end Developer (JavaScript, React)',\n",
       "  'min_salary': 200000,\n",
       "  'max_salary': 200000,\n",
       "  'link': 'https://hh.ru/vacancy/32144172?query=%D0%9F%D1%80%D0%BE%D0%B3%D1%80%D0%B0%D0%BC%D0%BC%D0%B8%D1%81%D1%82',\n",
       "  'source': 'hh'},\n",
       " {'_id': ObjectId('5d5afddd30c104b5b6a3f881'),\n",
       "  'id': 'fa7da6c3446f361991bac14a14cfcf974583feac5809afb42935fc2c80c8a151',\n",
       "  'name': 'Senior java developer',\n",
       "  'min_salary': 200000,\n",
       "  'max_salary': 200000,\n",
       "  'link': 'https://hh.ru/vacancy/32893126?query=%D0%9F%D1%80%D0%BE%D0%B3%D1%80%D0%B0%D0%BC%D0%BC%D0%B8%D1%81%D1%82',\n",
       "  'source': 'hh'},\n",
       " {'_id': ObjectId('5d5afddd30c104b5b6a3f888'),\n",
       "  'id': '8552460f2db9963b86ecf0bf0877132fcb844fafa83fe4e5097ae497f2b2af83',\n",
       "  'name': 'Backend разработчик Java (ДИТ HR)',\n",
       "  'min_salary': 230000,\n",
       "  'max_salary': 230000,\n",
       "  'link': 'https://hh.ru/vacancy/32377870?query=%D0%9F%D1%80%D0%BE%D0%B3%D1%80%D0%B0%D0%BC%D0%BC%D0%B8%D1%81%D1%82',\n",
       "  'source': 'hh'},\n",
       " {'_id': ObjectId('5d5afddd30c104b5b6a3f889'),\n",
       "  'id': 'edccb17156ef4ae1fbe596b7f22d76b6c1f95ccdcd3c4d26c53adf72a59852ae',\n",
       "  'name': 'JavaScript разработчик (ДИТ HR)',\n",
       "  'min_salary': 230000,\n",
       "  'max_salary': 230000,\n",
       "  'link': 'https://hh.ru/vacancy/32379189?query=%D0%9F%D1%80%D0%BE%D0%B3%D1%80%D0%B0%D0%BC%D0%BC%D0%B8%D1%81%D1%82',\n",
       "  'source': 'hh'},\n",
       " {'_id': ObjectId('5d5afddd30c104b5b6a3f88c'),\n",
       "  'id': 'd91dff3902f3d6559d9278cb3af87e40ab04cbcf22c4927b097062928b72dc68',\n",
       "  'name': 'IOS разработчик Swift 5/RxSwift',\n",
       "  'min_salary': 200000,\n",
       "  'max_salary': 250000,\n",
       "  'link': 'https://hh.ru/vacancy/32776061?query=%D0%A0%D0%B0%D0%B7%D1%80%D0%B0%D0%B1%D0%BE%D1%82%D1%87%D0%B8%D0%BA',\n",
       "  'source': 'hh'}]"
      ]
     },
     "execution_count": 30,
     "metadata": {},
     "output_type": "execute_result"
    }
   ],
   "source": [
    "search_in_db(db_name='vacancydb', min_value=180000)"
   ]
  },
  {
   "cell_type": "markdown",
   "metadata": {},
   "source": [
    "#### 4. *Модифицировать функцию, которая будет добавлять в вашу базу данных только новые вакансии с сайта"
   ]
  },
  {
   "cell_type": "code",
   "execution_count": 31,
   "metadata": {
    "ExecuteTime": {
     "end_time": "2019-08-19T19:57:20.808049Z",
     "start_time": "2019-08-19T19:53:43.498596Z"
    }
   },
   "outputs": [],
   "source": [
    "search_queries = ['Разработчик Python', 'Разработчик Java', 'Разработчик C++']\n",
    "df_new = get_vacancies(search_queries, page_count=1)"
   ]
  },
  {
   "cell_type": "code",
   "execution_count": 32,
   "metadata": {
    "ExecuteTime": {
     "end_time": "2019-08-19T19:57:20.826004Z",
     "start_time": "2019-08-19T19:57:20.811055Z"
    }
   },
   "outputs": [
    {
     "data": {
      "text/html": [
       "<div>\n",
       "<style scoped>\n",
       "    .dataframe tbody tr th:only-of-type {\n",
       "        vertical-align: middle;\n",
       "    }\n",
       "\n",
       "    .dataframe tbody tr th {\n",
       "        vertical-align: top;\n",
       "    }\n",
       "\n",
       "    .dataframe thead th {\n",
       "        text-align: right;\n",
       "    }\n",
       "</style>\n",
       "<table border=\"1\" class=\"dataframe\">\n",
       "  <thead>\n",
       "    <tr style=\"text-align: right;\">\n",
       "      <th></th>\n",
       "      <th>id</th>\n",
       "      <th>name</th>\n",
       "      <th>min_salary</th>\n",
       "      <th>max_salary</th>\n",
       "      <th>link</th>\n",
       "      <th>source</th>\n",
       "    </tr>\n",
       "  </thead>\n",
       "  <tbody>\n",
       "    <tr>\n",
       "      <th>0</th>\n",
       "      <td>4a32bb56661704ba7db0db123f16b593876fa00bbe07f0...</td>\n",
       "      <td>Разработчик Tableau</td>\n",
       "      <td>0</td>\n",
       "      <td>0</td>\n",
       "      <td>https://hh.ru/vacancy/33077842?query=%D0%A0%D0...</td>\n",
       "      <td>hh</td>\n",
       "    </tr>\n",
       "    <tr>\n",
       "      <th>1</th>\n",
       "      <td>ee5fbdde4daf5a96581dc923739c7f5c8342ff7dad253c...</td>\n",
       "      <td>Стажер-разработчик бекэнда (С++/Python)</td>\n",
       "      <td>0</td>\n",
       "      <td>0</td>\n",
       "      <td>https://hh.ru/vacancy/31938413?query=%D0%A0%D0...</td>\n",
       "      <td>hh</td>\n",
       "    </tr>\n",
       "    <tr>\n",
       "      <th>2</th>\n",
       "      <td>40252ef8b03b273dc7af94117da9b0ec5b39269a61440e...</td>\n",
       "      <td>Senior python developer в Трипстер (Python, Dj...</td>\n",
       "      <td>200000</td>\n",
       "      <td>200000</td>\n",
       "      <td>https://hh.ru/vacancy/33054998?query=%D0%A0%D0...</td>\n",
       "      <td>hh</td>\n",
       "    </tr>\n",
       "    <tr>\n",
       "      <th>3</th>\n",
       "      <td>483849117d342c41072aac6bf56ccbe1f1818ef2a638ca...</td>\n",
       "      <td>Стажер-разработчик (машинное обучение)</td>\n",
       "      <td>0</td>\n",
       "      <td>0</td>\n",
       "      <td>https://hh.ru/vacancy/32537820?query=%D0%A0%D0...</td>\n",
       "      <td>hh</td>\n",
       "    </tr>\n",
       "    <tr>\n",
       "      <th>4</th>\n",
       "      <td>ceeaf3d19841cf41bcbd8974232e78b44d194e73726f22...</td>\n",
       "      <td>Senior Front-end Developer (JavaScript, React)</td>\n",
       "      <td>200000</td>\n",
       "      <td>200000</td>\n",
       "      <td>https://hh.ru/vacancy/32144172?query=%D0%A0%D0...</td>\n",
       "      <td>hh</td>\n",
       "    </tr>\n",
       "  </tbody>\n",
       "</table>\n",
       "</div>"
      ],
      "text/plain": [
       "                                                  id  \\\n",
       "0  4a32bb56661704ba7db0db123f16b593876fa00bbe07f0...   \n",
       "1  ee5fbdde4daf5a96581dc923739c7f5c8342ff7dad253c...   \n",
       "2  40252ef8b03b273dc7af94117da9b0ec5b39269a61440e...   \n",
       "3  483849117d342c41072aac6bf56ccbe1f1818ef2a638ca...   \n",
       "4  ceeaf3d19841cf41bcbd8974232e78b44d194e73726f22...   \n",
       "\n",
       "                                                name  min_salary  max_salary  \\\n",
       "0                                Разработчик Tableau           0           0   \n",
       "1            Стажер-разработчик бекэнда (С++/Python)           0           0   \n",
       "2  Senior python developer в Трипстер (Python, Dj...      200000      200000   \n",
       "3             Стажер-разработчик (машинное обучение)           0           0   \n",
       "4     Senior Front-end Developer (JavaScript, React)      200000      200000   \n",
       "\n",
       "                                                link source  \n",
       "0  https://hh.ru/vacancy/33077842?query=%D0%A0%D0...     hh  \n",
       "1  https://hh.ru/vacancy/31938413?query=%D0%A0%D0...     hh  \n",
       "2  https://hh.ru/vacancy/33054998?query=%D0%A0%D0...     hh  \n",
       "3  https://hh.ru/vacancy/32537820?query=%D0%A0%D0...     hh  \n",
       "4  https://hh.ru/vacancy/32144172?query=%D0%A0%D0...     hh  "
      ]
     },
     "execution_count": 32,
     "metadata": {},
     "output_type": "execute_result"
    }
   ],
   "source": [
    "df_new.head()"
   ]
  },
  {
   "cell_type": "code",
   "execution_count": 33,
   "metadata": {
    "ExecuteTime": {
     "end_time": "2019-08-19T19:57:20.954672Z",
     "start_time": "2019-08-19T19:57:20.830993Z"
    }
   },
   "outputs": [
    {
     "data": {
      "text/plain": [
       "'Data saved to: vacancydb'"
      ]
     },
     "execution_count": 33,
     "metadata": {},
     "output_type": "execute_result"
    }
   ],
   "source": [
    "save_to_db(data_frame=df_new, db_name=db_name)"
   ]
  },
  {
   "cell_type": "code",
   "execution_count": 38,
   "metadata": {
    "ExecuteTime": {
     "end_time": "2019-08-19T20:00:38.874417Z",
     "start_time": "2019-08-19T20:00:38.868433Z"
    }
   },
   "outputs": [
    {
     "data": {
      "text/plain": [
       "['c6fc2ae3867b93fe693b427137c8511ccec3b231de7a65671a365163686d2034',\n",
       " '8240e863d31e6c035959d8949d0f04052da2f8cdd769cf6b754a16b3e65259ba',\n",
       " 'ceeaf3d19841cf41bcbd8974232e78b44d194e73726f222805b2424676d5ed47',\n",
       " '7212e6b42996131a93697ce0ae4ab8046207109f3ef088ad46cb4465363311ef',\n",
       " '00b6c8a1486e71178b272abff59ea9d6d20cb38787c9f7aff5616dd6773551e3',\n",
       " '4b9cdf968413ab5a6de76e06c777e8b59d434e08aecc1ed6e6c6e976eb6ff5f0',\n",
       " '5de86be0cf60c9a3f684af930a582131162357fab97070df125a93f42a9ae3f5',\n",
       " 'fa7da6c3446f361991bac14a14cfcf974583feac5809afb42935fc2c80c8a151',\n",
       " '054c17814d2f1b93a9aa5a87d3d53377394160069f4054eedd02ea9c705095b3',\n",
       " '38153f547f046f0273e46c29b88dbbc33a9267b2d0098ed22fad50acfea5eaa2']"
      ]
     },
     "execution_count": 38,
     "metadata": {},
     "output_type": "execute_result"
    }
   ],
   "source": [
    "nonunique_ids = list(set(df.id) & set(df_new.id))[:10]\n",
    "nonunique_ids"
   ]
  },
  {
   "cell_type": "code",
   "execution_count": 42,
   "metadata": {
    "ExecuteTime": {
     "end_time": "2019-08-19T20:01:57.922905Z",
     "start_time": "2019-08-19T20:01:57.895979Z"
    }
   },
   "outputs": [
    {
     "name": "stdout",
     "output_type": "stream",
     "text": [
      "{'_id': ObjectId('5d5afddd30c104b5b6a3f8be'),\n",
      " 'id': 'c6fc2ae3867b93fe693b427137c8511ccec3b231de7a65671a365163686d2034',\n",
      " 'link': 'https://www.superjob.ru/vakansii/razrabotchik-java-32047621.html',\n",
      " 'max_salary': 0,\n",
      " 'min_salary': 0,\n",
      " 'name': 'Разработчик Java',\n",
      " 'source': 'superjob'}\n",
      "\n",
      "\n",
      "{'_id': ObjectId('5d5afddd30c104b5b6a3f8d7'),\n",
      " 'id': '8240e863d31e6c035959d8949d0f04052da2f8cdd769cf6b754a16b3e65259ba',\n",
      " 'link': 'https://www.superjob.ru/vakansii/analitik-razrabotchik-python-32360537.html',\n",
      " 'max_salary': 0,\n",
      " 'min_salary': 0,\n",
      " 'name': 'Аналитик-разработчик Python',\n",
      " 'source': 'superjob'}\n",
      "\n",
      "\n",
      "{'_id': ObjectId('5d5afddd30c104b5b6a3f87c'),\n",
      " 'id': 'ceeaf3d19841cf41bcbd8974232e78b44d194e73726f222805b2424676d5ed47',\n",
      " 'link': 'https://hh.ru/vacancy/32144172?query=%D0%9F%D1%80%D0%BE%D0%B3%D1%80%D0%B0%D0%BC%D0%BC%D0%B8%D1%81%D1%82',\n",
      " 'max_salary': 200000,\n",
      " 'min_salary': 200000,\n",
      " 'name': 'Senior Front-end Developer (JavaScript, React)',\n",
      " 'source': 'hh'}\n",
      "\n",
      "\n",
      "{'_id': ObjectId('5d5afddd30c104b5b6a3f8c4'),\n",
      " 'id': '7212e6b42996131a93697ce0ae4ab8046207109f3ef088ad46cb4465363311ef',\n",
      " 'link': 'https://www.superjob.ru/vakansii/inzhener-razrabotchik-32323418.html',\n",
      " 'max_salary': 170000,\n",
      " 'min_salary': 170000,\n",
      " 'name': 'Инженер-разработчик (backend)',\n",
      " 'source': 'superjob'}\n",
      "\n",
      "\n",
      "{'_id': ObjectId('5d5afddd30c104b5b6a3f8cd'),\n",
      " 'id': '00b6c8a1486e71178b272abff59ea9d6d20cb38787c9f7aff5616dd6773551e3',\n",
      " 'link': 'https://www.superjob.ru/vakansii/razrabotchik-analiticheskoj-otchetnosti-32214239.html',\n",
      " 'max_salary': 0,\n",
      " 'min_salary': 0,\n",
      " 'name': 'Разработчик аналитической отчетности',\n",
      " 'source': 'superjob'}\n",
      "\n",
      "\n",
      "{'_id': ObjectId('5d5afddd30c104b5b6a3f8ce'),\n",
      " 'id': '4b9cdf968413ab5a6de76e06c777e8b59d434e08aecc1ed6e6c6e976eb6ff5f0',\n",
      " 'link': 'https://www.superjob.ru/vakansii/backend-razrabotchik-32353039.html',\n",
      " 'max_salary': 0,\n",
      " 'min_salary': 0,\n",
      " 'name': 'Backend разработчик (Java)',\n",
      " 'source': 'superjob'}\n",
      "\n",
      "\n",
      "{'_id': ObjectId('5d5afddd30c104b5b6a3f8c1'),\n",
      " 'id': '5de86be0cf60c9a3f684af930a582131162357fab97070df125a93f42a9ae3f5',\n",
      " 'link': 'https://www.superjob.ru/vakansii/javascript-razrabotchik-32354897.html',\n",
      " 'max_salary': 0,\n",
      " 'min_salary': 0,\n",
      " 'name': 'JavaScript разработчик (ДИТ HR)',\n",
      " 'source': 'superjob'}\n",
      "\n",
      "\n",
      "{'_id': ObjectId('5d5afddd30c104b5b6a3f881'),\n",
      " 'id': 'fa7da6c3446f361991bac14a14cfcf974583feac5809afb42935fc2c80c8a151',\n",
      " 'link': 'https://hh.ru/vacancy/32893126?query=%D0%9F%D1%80%D0%BE%D0%B3%D1%80%D0%B0%D0%BC%D0%BC%D0%B8%D1%81%D1%82',\n",
      " 'max_salary': 200000,\n",
      " 'min_salary': 200000,\n",
      " 'name': 'Senior java developer',\n",
      " 'source': 'hh'}\n",
      "\n",
      "\n",
      "{'_id': ObjectId('5d5afddd30c104b5b6a3f8cf'),\n",
      " 'id': '054c17814d2f1b93a9aa5a87d3d53377394160069f4054eedd02ea9c705095b3',\n",
      " 'link': 'https://www.superjob.ru/vakansii/razrabotchik-32118100.html',\n",
      " 'max_salary': 0,\n",
      " 'min_salary': 0,\n",
      " 'name': 'Разработчик .NET',\n",
      " 'source': 'superjob'}\n",
      "\n",
      "\n",
      "{'_id': ObjectId('5d5afddd30c104b5b6a3f8d0'),\n",
      " 'id': '38153f547f046f0273e46c29b88dbbc33a9267b2d0098ed22fad50acfea5eaa2',\n",
      " 'link': 'https://www.superjob.ru/vakansii/web-razrabotchik-32203665.html',\n",
      " 'max_salary': 126500,\n",
      " 'min_salary': 126500,\n",
      " 'name': 'Web-разработчик (PHP, YII2)',\n",
      " 'source': 'superjob'}\n",
      "\n",
      "\n"
     ]
    }
   ],
   "source": [
    "for nonunique_id in nonunique_ids:\n",
    "    objects = db.vacancydb.find({'id': nonunique_id})\n",
    "    for obj in objects:\n",
    "        pprint(obj)\n",
    "        print('\\n')"
   ]
  },
  {
   "cell_type": "code",
   "execution_count": null,
   "metadata": {},
   "outputs": [],
   "source": []
  }
 ],
 "metadata": {
  "kernelspec": {
   "display_name": "Python 3",
   "language": "python",
   "name": "python3"
  },
  "language_info": {
   "codemirror_mode": {
    "name": "ipython",
    "version": 3
   },
   "file_extension": ".py",
   "mimetype": "text/x-python",
   "name": "python",
   "nbconvert_exporter": "python",
   "pygments_lexer": "ipython3",
   "version": "3.7.3"
  }
 },
 "nbformat": 4,
 "nbformat_minor": 2
}

{
 "cells": [
  {
   "cell_type": "markdown",
   "metadata": {},
   "source": [
    "#### 1. Запросить курсы любой валюты за указанный период. Сохранить полученные данные в базу данных Mongo."
   ]
  },
  {
   "cell_type": "code",
   "execution_count": 1,
   "metadata": {
    "ExecuteTime": {
     "end_time": "2019-08-24T17:53:54.816793Z",
     "start_time": "2019-08-24T17:53:54.274162Z"
    }
   },
   "outputs": [],
   "source": [
    "from zeep import Client\n",
    "from pprint import pprint\n",
    "from pymongo import MongoClient, errors\n",
    "from decimal import Decimal\n",
    "import datetime\n",
    "import math\n",
    "import numpy as np"
   ]
  },
  {
   "cell_type": "code",
   "execution_count": 2,
   "metadata": {
    "ExecuteTime": {
     "end_time": "2019-08-24T17:53:54.845684Z",
     "start_time": "2019-08-24T17:53:54.818755Z"
    }
   },
   "outputs": [],
   "source": [
    "def create_db(database_name, index, unique=True):\n",
    "    try:\n",
    "        client = MongoClient('mongodb://127.0.0.1:27017')\n",
    "        db = client[database_name]\n",
    "        if index:\n",
    "            db[database_name].create_index(index, unique=unique)\n",
    "        return db[database_name]\n",
    "    except Exception as e:\n",
    "        return e\n",
    "\n",
    "\n",
    "def add_to_db(database, document):\n",
    "    try:\n",
    "        return database.insert_one(document)\n",
    "    except errors.DuplicateKeyError as e:\n",
    "        return e\n",
    "\n",
    "    \n",
    "def update_to_db(database, document):\n",
    "    try:\n",
    "        return database.update_one(document, upsert=True)\n",
    "    except Exception as e:\n",
    "        return e\n",
    "    \n",
    "    \n",
    "def enum_valutes(seld, database_name, index, unique=True):\n",
    "    try:\n",
    "        url = 'http://www.cbr.ru/DailyInfoWebServ/DailyInfo.asmx?WSDL'\n",
    "        client = Client(url)\n",
    "        result = client.service.EnumValutes(seld)\n",
    "    \n",
    "        db = create_db(database_name, index, unique)\n",
    "    \n",
    "        for value in result._value_1._value_1:\n",
    "            doc = {\n",
    "                'Vcode': value['EnumValutes']['Vcode'],\n",
    "                'Vname': value['EnumValutes']['Vname'],\n",
    "                'VEngname': value['EnumValutes']['VEngname'],\n",
    "                'VcharCode': value['EnumValutes']['VcharCode']\n",
    "            }\n",
    "            update_to_db(db, doc)\n",
    "        return db\n",
    "    except Exception as e:\n",
    "        return e\n",
    "    \n",
    "\n",
    "def get_currency_code(database, vcharcode):\n",
    "    try:\n",
    "        vcode = database.find_one({'VcharCode': vcharcode})['Vcode']\n",
    "        return vcode\n",
    "    except Exception as e:\n",
    "        return e\n",
    "\n",
    "    \n",
    "def get_curs_dynamic(database_name, index, currency_database, vcharcode, from_date, to_date):\n",
    "    try:\n",
    "        valuta_code = get_currency_code(currency_database, vcharcode)\n",
    "        \n",
    "        url = 'http://www.cbr.ru/DailyInfoWebServ/DailyInfo.asmx?WSDL'\n",
    "        client = Client(url)\n",
    "        result = client.service.GetCursDynamic(from_date, to_date, valuta_code)\n",
    "        \n",
    "        db = create_db(database_name, index)\n",
    "        \n",
    "        for value in result._value_1._value_1:\n",
    "            doc = {\n",
    "                'VcharCode': vcharcode,\n",
    "                'CursDate': value['ValuteCursDynamic']['CursDate'],\n",
    "                'Vcurs': float(value['ValuteCursDynamic']['Vcurs'])\n",
    "            }\n",
    "            update_to_db(db, doc)\n",
    "        return db\n",
    "    except Exception as e:\n",
    "        return e"
   ]
  },
  {
   "cell_type": "code",
   "execution_count": 3,
   "metadata": {
    "ExecuteTime": {
     "end_time": "2019-08-24T17:53:55.094629Z",
     "start_time": "2019-08-24T17:53:54.847679Z"
    }
   },
   "outputs": [],
   "source": [
    "currency_db = enum_valutes(False, 'currency', 'VcharCode', True)"
   ]
  },
  {
   "cell_type": "code",
   "execution_count": 4,
   "metadata": {
    "ExecuteTime": {
     "end_time": "2019-08-24T17:53:55.111566Z",
     "start_time": "2019-08-24T17:53:55.099597Z"
    }
   },
   "outputs": [
    {
     "data": {
      "text/plain": [
       "{'_id': ObjectId('5d6104d3a7d92ada83d64f2c'),\n",
       " 'Vcode': 'R01235              ',\n",
       " 'Vname': 'Доллар США                                                                                                                                                                                                                                                    ',\n",
       " 'VEngname': 'US Dollar                                                                                                                                                                                                                                                     ',\n",
       " 'VcharCode': 'USD'}"
      ]
     },
     "execution_count": 4,
     "metadata": {},
     "output_type": "execute_result"
    }
   ],
   "source": [
    "currency_db.find_one({'VcharCode': 'USD'})"
   ]
  },
  {
   "cell_type": "code",
   "execution_count": 5,
   "metadata": {
    "ExecuteTime": {
     "end_time": "2019-08-24T17:53:55.839098Z",
     "start_time": "2019-08-24T17:53:55.114554Z"
    }
   },
   "outputs": [],
   "source": [
    "exchange_rate_db = get_curs_dynamic('exchange_rate', False, currency_db, 'USD', '2018-01-01', '2019-07-31')\n",
    "exchange_rate_db = get_curs_dynamic('exchange_rate', False, currency_db, 'EUR', '2018-01-01', '2019-07-31')"
   ]
  },
  {
   "cell_type": "code",
   "execution_count": 6,
   "metadata": {
    "ExecuteTime": {
     "end_time": "2019-08-24T17:53:55.854816Z",
     "start_time": "2019-08-24T17:53:55.840853Z"
    }
   },
   "outputs": [
    {
     "data": {
      "text/plain": [
       "{'_id': ObjectId('5d610ba0a7d92ada83d656fd'),\n",
       " 'VcharCode': 'USD',\n",
       " 'CursDate': datetime.datetime(2018, 1, 9, 21, 0),\n",
       " 'Vcurs': 57.0463}"
      ]
     },
     "execution_count": 6,
     "metadata": {},
     "output_type": "execute_result"
    }
   ],
   "source": [
    "exchange_rate_db.find_one({'VcharCode': 'USD'})"
   ]
  },
  {
   "cell_type": "code",
   "execution_count": 7,
   "metadata": {
    "ExecuteTime": {
     "end_time": "2019-08-24T17:53:55.869776Z",
     "start_time": "2019-08-24T17:53:55.856810Z"
    }
   },
   "outputs": [
    {
     "data": {
      "text/plain": [
       "{'_id': ObjectId('5d610ba1a7d92ada83d6587f'),\n",
       " 'VcharCode': 'EUR',\n",
       " 'CursDate': datetime.datetime(2018, 1, 9, 21, 0),\n",
       " 'Vcurs': 68.2103}"
      ]
     },
     "execution_count": 7,
     "metadata": {},
     "output_type": "execute_result"
    }
   ],
   "source": [
    "exchange_rate_db.find_one({'VcharCode': 'EUR'})"
   ]
  },
  {
   "cell_type": "markdown",
   "metadata": {},
   "source": [
    "#### 2. Написать функцию, которая принимает в качестве параметров две даты, ищет самую большую разницу между курсами валюты за указанный период и возвращает эти дни."
   ]
  },
  {
   "cell_type": "code",
   "execution_count": 8,
   "metadata": {
    "ExecuteTime": {
     "end_time": "2019-08-24T17:53:55.885736Z",
     "start_time": "2019-08-24T17:53:55.872769Z"
    }
   },
   "outputs": [],
   "source": [
    "def get_max_exchacnge_rate_diff(database, from_date, to_date, vcharcode):\n",
    "    try:\n",
    "        s_date = datetime.datetime.strptime(from_date, '%Y-%m-%d')\n",
    "        e_date = datetime.datetime.strptime(to_date, '%Y-%m-%d')\n",
    "\n",
    "        objects = database.find({'VcharCode': vcharcode, 'CursDate': {'$gte': s_date, '$lte': e_date}})\n",
    "        \n",
    "        min_value, max_value = math.inf, -math.inf\n",
    "        \n",
    "        for obj in objects:\n",
    "            v = obj['Vcurs']\n",
    "            d = obj['CursDate'].date()\n",
    "            if v < min_value:\n",
    "                min_value = v\n",
    "                min_date = d\n",
    "            elif v > max_value:\n",
    "                max_value = v\n",
    "                max_date = d\n",
    "                \n",
    "        return {\n",
    "                'Min': (min_date.isoformat(), min_value),\n",
    "                'Max': (max_date.isoformat(), max_value),\n",
    "                'Diff': np.round(max_value - min_value, 4)\n",
    "        }\n",
    "    except Exception as e:\n",
    "        return e"
   ]
  },
  {
   "cell_type": "code",
   "execution_count": 9,
   "metadata": {
    "ExecuteTime": {
     "end_time": "2019-08-24T17:53:55.913665Z",
     "start_time": "2019-08-24T17:53:55.887730Z"
    }
   },
   "outputs": [
    {
     "data": {
      "text/plain": [
       "{'Min': ('2018-02-27', 55.6717),\n",
       " 'Max': ('2018-09-11', 69.9744),\n",
       " 'Diff': 14.3027}"
      ]
     },
     "execution_count": 9,
     "metadata": {},
     "output_type": "execute_result"
    }
   ],
   "source": [
    "get_max_exchacnge_rate_diff(exchange_rate_db, '2018-01-01', '2018-12-31', 'USD')"
   ]
  },
  {
   "cell_type": "markdown",
   "metadata": {},
   "source": [
    "#### 3. Сделать вывод информативным: Валюту <Валюта> выгодно было купить <Дата>, а продать <Дата>. Прибыль: <Разница в цене валюты>."
   ]
  },
  {
   "cell_type": "code",
   "execution_count": 10,
   "metadata": {
    "ExecuteTime": {
     "end_time": "2019-08-24T17:53:55.926668Z",
     "start_time": "2019-08-24T17:53:55.915658Z"
    }
   },
   "outputs": [],
   "source": [
    "def get_max_exchange_rate_diff_pretty(database, from_date, to_date, vcharcode):\n",
    "    try:\n",
    "        s_date = datetime.datetime.strptime(from_date, '%Y-%m-%d')\n",
    "        e_date = datetime.datetime.strptime(to_date, '%Y-%m-%d')\n",
    "\n",
    "        objects = database.find({'VcharCode': vcharcode, 'CursDate': {'$gte': s_date, '$lte': e_date}})\n",
    "        \n",
    "        min_value, max_value = math.inf, -math.inf\n",
    "        \n",
    "        for obj in objects:\n",
    "            v = obj['Vcurs']\n",
    "            d = obj['CursDate'].date()\n",
    "            if v < min_value:\n",
    "                min_value = v\n",
    "                min_date = d\n",
    "            elif v > max_value:\n",
    "                max_value = v\n",
    "                max_date = d\n",
    "                \n",
    "        return f'Валюту {vcharcode} выгодно было купить {min_date.isoformat()} по цене {min_value}, ' \\\n",
    "               f'а продать {max_date.isoformat()} по цене {max_value}. ' \\\n",
    "               f'Прибыль: {np.round(max_value - min_value, 4)}'\n",
    "    except Exception as e:\n",
    "        return e"
   ]
  },
  {
   "cell_type": "code",
   "execution_count": 11,
   "metadata": {
    "ExecuteTime": {
     "end_time": "2019-08-24T17:53:55.953560Z",
     "start_time": "2019-08-24T17:53:55.929628Z"
    }
   },
   "outputs": [
    {
     "data": {
      "text/plain": [
       "'Валюту EUR выгодно было купить 2018-01-10 по цене 67.8841, а продать 2018-09-11 по цене 81.3942. Прибыль: 13.5101'"
      ]
     },
     "execution_count": 11,
     "metadata": {},
     "output_type": "execute_result"
    }
   ],
   "source": [
    "get_max_exchange_rate_diff_pretty(exchange_rate_db, '2018-01-01', '2018-12-31', 'EUR')"
   ]
  },
  {
   "cell_type": "markdown",
   "metadata": {},
   "source": [
    "#### 4. Доработать приложение по вакансиям. При наличии вакансии с зарплатой отличной от руб. приложение должно осущетсвлять автоматический перевод по курсу валюты на сегодняшний день. Информацию получать через SOAP-сервис центробанка."
   ]
  },
  {
   "cell_type": "code",
   "execution_count": 12,
   "metadata": {
    "ExecuteTime": {
     "end_time": "2019-08-24T17:53:56.611197Z",
     "start_time": "2019-08-24T17:53:55.955555Z"
    }
   },
   "outputs": [],
   "source": [
    "import pandas as pd\n",
    "import requests\n",
    "import json\n",
    "import re\n",
    "import hashlib\n",
    "from bs4 import BeautifulSoup as bs\n",
    "from pprint import pprint"
   ]
  },
  {
   "cell_type": "code",
   "execution_count": 13,
   "metadata": {
    "ExecuteTime": {
     "end_time": "2019-08-24T17:53:56.621164Z",
     "start_time": "2019-08-24T17:53:56.612186Z"
    }
   },
   "outputs": [],
   "source": [
    "def get_curse_on_date(date=datetime.date.today().strftime('%Y-%m-%d'), vcharcode='USD'):\n",
    "    try:\n",
    "        url = 'http://www.cbr.ru/DailyInfoWebServ/DailyInfo.asmx?WSDL'\n",
    "        client = Client(url)\n",
    "        result = client.service.GetCursOnDate(date)\n",
    "        \n",
    "        for value in result._value_1._value_1:\n",
    "            if vcharcode == value['ValuteCursOnDate']['VchCode']:\n",
    "                return float(value['ValuteCursOnDate']['Vcurs'])\n",
    "        return float(1)\n",
    "    except Exception as e:\n",
    "        return e\n",
    "    "
   ]
  },
  {
   "cell_type": "code",
   "execution_count": 14,
   "metadata": {
    "ExecuteTime": {
     "end_time": "2019-08-24T17:53:56.790486Z",
     "start_time": "2019-08-24T17:53:56.624156Z"
    }
   },
   "outputs": [
    {
     "data": {
      "text/plain": [
       "65.6046"
      ]
     },
     "execution_count": 14,
     "metadata": {},
     "output_type": "execute_result"
    }
   ],
   "source": [
    "get_curse_on_date()"
   ]
  },
  {
   "cell_type": "code",
   "execution_count": 15,
   "metadata": {
    "ExecuteTime": {
     "end_time": "2019-08-24T17:53:56.798473Z",
     "start_time": "2019-08-24T17:53:56.792484Z"
    }
   },
   "outputs": [],
   "source": [
    "def get_html(link, headers):\n",
    "    with requests.session() as s:\n",
    "        r = s.get(link, headers=headers)\n",
    "    if r.status_code == 200:\n",
    "        return r.text\n",
    "    else:\n",
    "        return False\n",
    "    "
   ]
  },
  {
   "cell_type": "code",
   "execution_count": 16,
   "metadata": {
    "ExecuteTime": {
     "end_time": "2019-08-24T17:53:56.825397Z",
     "start_time": "2019-08-24T17:53:56.801459Z"
    }
   },
   "outputs": [],
   "source": [
    "def get_hh_vacancies(search_queries=[], page_count=1, headers={'User-agent': 'Mozilla/5.0'}):\n",
    "\n",
    "    try:\n",
    "\n",
    "        def get_salary_info(link, headers):\n",
    "            html = get_html(link, headers)\n",
    "            _min_salary, _max_salary = 0, 0\n",
    "            _currency = 'РУБ'\n",
    "            if html:\n",
    "                soup = bs(html, 'html.parser')\n",
    "                tags = soup.find_all('p', class_='vacancy-salary')\n",
    "                _salary = re.findall(r'\\d+', re.sub(r'\\s', '', bs(str(tags[0])).get_text()))\n",
    "                _currency_text = re.findall(r'.+\\d\\s(\\w{3}).+', bs(str(tags[0])).get_text().upper())\n",
    "                if len(_currency_text) > 0 and _currency_text[0] != 'РУБ':\n",
    "                    _currency = _currency_text[0]\n",
    "                    _exchange_rate = get_curse_on_date(vcharcode=_currency)\n",
    "                    _salary = [_exchange_rate * float(_value) for _value in _salary]\n",
    "                if len(_salary) == 1:\n",
    "                    _min_salary = _max_salary = _salary[0]\n",
    "                elif len(_salary) == 2:\n",
    "                    _min_salary,  _max_salary = _salary\n",
    "                return _min_salary, _max_salary, _currency\n",
    "            else:\n",
    "                return _min_salary, _max_salary, _currency\n",
    "\n",
    "        def get_vacancy_info(search_queries, page_count, headers):\n",
    "            if len(search_queries) > 0:\n",
    "                _df_list = []\n",
    "                for search_query in search_queries:\n",
    "                    text = '+'.join(search_query.split(' ')).capitalize()\n",
    "                    for i in range(page_count):\n",
    "                        link = f'https://hh.ru/search/vacancy?area=1&text={text}&page={i}'\n",
    "                        html = get_html(link, headers)\n",
    "                        if html:\n",
    "                            soup = bs(html, 'html.parser')\n",
    "                            tags = soup.find_all('a', class_='bloko-link HH-LinkModifier')\n",
    "                            _vacancies = {\n",
    "                                'id': [],\n",
    "                                'name': [],\n",
    "                                'min_salary': [],\n",
    "                                'max_salary': [],\n",
    "                                'currency': [],\n",
    "                                'link': []\n",
    "                            }\n",
    "                            for tag in tags:\n",
    "                                _id = 'hh' + re.findall(r'(\\d+)\\??', tag['href'])[0]\n",
    "                                # _name = bs(str(tag)).get_text()\n",
    "                                _name = tag.get_text()\n",
    "                                _min_salary, _max_salary, _currency = get_salary_info(tag['href'], headers)\n",
    "                                _link = tag['href']\n",
    "                                _vacancies['id'].append(hashlib.sha256(_id.encode('utf-8')).hexdigest())\n",
    "                                _vacancies['name'].append(_name)\n",
    "                                _vacancies['min_salary'].append(_min_salary)\n",
    "                                _vacancies['max_salary'].append(_max_salary)\n",
    "                                _vacancies['currency'].append(_currency)\n",
    "                                _vacancies['link'].append(_link)\n",
    "                            _df_temp = pd.DataFrame(_vacancies)\n",
    "                        else:\n",
    "                            return False\n",
    "                        _df_list.append(_df_temp)\n",
    "                return pd.concat(_df_list).drop_duplicates(subset='id').reset_index(drop=True)\n",
    "            else:\n",
    "                return False\n",
    "\n",
    "        return get_vacancy_info(search_queries, page_count, headers)\n",
    "    \n",
    "    except Exception as e:\n",
    "        \n",
    "        return e\n",
    "    "
   ]
  },
  {
   "cell_type": "code",
   "execution_count": 17,
   "metadata": {
    "ExecuteTime": {
     "end_time": "2019-08-24T17:54:17.019280Z",
     "start_time": "2019-08-24T17:53:56.828388Z"
    }
   },
   "outputs": [],
   "source": [
    "search_queries = ['разработчик']\n",
    "df = get_hh_vacancies(search_queries, page_count=3)"
   ]
  },
  {
   "cell_type": "code",
   "execution_count": 18,
   "metadata": {
    "ExecuteTime": {
     "end_time": "2019-08-24T17:54:17.042062Z",
     "start_time": "2019-08-24T17:54:17.021116Z"
    }
   },
   "outputs": [
    {
     "data": {
      "text/html": [
       "<div>\n",
       "<style scoped>\n",
       "    .dataframe tbody tr th:only-of-type {\n",
       "        vertical-align: middle;\n",
       "    }\n",
       "\n",
       "    .dataframe tbody tr th {\n",
       "        vertical-align: top;\n",
       "    }\n",
       "\n",
       "    .dataframe thead th {\n",
       "        text-align: right;\n",
       "    }\n",
       "</style>\n",
       "<table border=\"1\" class=\"dataframe\">\n",
       "  <thead>\n",
       "    <tr style=\"text-align: right;\">\n",
       "      <th></th>\n",
       "      <th>id</th>\n",
       "      <th>name</th>\n",
       "      <th>min_salary</th>\n",
       "      <th>max_salary</th>\n",
       "      <th>currency</th>\n",
       "      <th>link</th>\n",
       "    </tr>\n",
       "  </thead>\n",
       "  <tbody>\n",
       "    <tr>\n",
       "      <td>51</td>\n",
       "      <td>216841d18e65b272e6111b7bbb977ac5d9f1b8f67c4aa5...</td>\n",
       "      <td>Middle Android Developer(java/kotlin)</td>\n",
       "      <td>164012</td>\n",
       "      <td>203374</td>\n",
       "      <td>USD</td>\n",
       "      <td>https://hh.ru/vacancy/33165996?query=%D0%A0%D0...</td>\n",
       "    </tr>\n",
       "  </tbody>\n",
       "</table>\n",
       "</div>"
      ],
      "text/plain": [
       "                                                   id  \\\n",
       "51  216841d18e65b272e6111b7bbb977ac5d9f1b8f67c4aa5...   \n",
       "\n",
       "                                     name min_salary max_salary currency  \\\n",
       "51  Middle Android Developer(java/kotlin)     164012     203374      USD   \n",
       "\n",
       "                                                 link  \n",
       "51  https://hh.ru/vacancy/33165996?query=%D0%A0%D0...  "
      ]
     },
     "execution_count": 18,
     "metadata": {},
     "output_type": "execute_result"
    }
   ],
   "source": [
    "df[df.currency != 'РУБ']"
   ]
  },
  {
   "cell_type": "code",
   "execution_count": null,
   "metadata": {},
   "outputs": [],
   "source": []
  }
 ],
 "metadata": {
  "kernelspec": {
   "display_name": "Python 3",
   "language": "python",
   "name": "python3"
  },
  "language_info": {
   "codemirror_mode": {
    "name": "ipython",
    "version": 3
   },
   "file_extension": ".py",
   "mimetype": "text/x-python",
   "name": "python",
   "nbconvert_exporter": "python",
   "pygments_lexer": "ipython3",
   "version": "3.7.3"
  }
 },
 "nbformat": 4,
 "nbformat_minor": 2
}

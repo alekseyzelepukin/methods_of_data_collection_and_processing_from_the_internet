{
 "cells": [
  {
   "cell_type": "markdown",
   "metadata": {},
   "source": [
    "#### 1. Запросить курсы любой валюты за указанный период. Сохранить полученные данные в базу данных Mongo."
   ]
  },
  {
   "cell_type": "code",
   "execution_count": 1,
   "metadata": {
    "ExecuteTime": {
     "end_time": "2019-08-22T18:50:08.753336Z",
     "start_time": "2019-08-22T18:50:08.343186Z"
    }
   },
   "outputs": [],
   "source": [
    "from zeep import Client\n",
    "from pprint import pprint\n",
    "from pymongo import MongoClient, errors"
   ]
  },
  {
   "cell_type": "code",
   "execution_count": 2,
   "metadata": {
    "ExecuteTime": {
     "end_time": "2019-08-22T18:50:08.773161Z",
     "start_time": "2019-08-22T18:50:08.755209Z"
    }
   },
   "outputs": [],
   "source": [
    "def create_db(database_name, index, unique=True):\n",
    "    try:\n",
    "        client = MongoClient('mongodb://127.0.0.1:27017')\n",
    "        db = client[database_name]\n",
    "        if index:\n",
    "            db[database_name].create_index(index, unique=unique)\n",
    "        return db[database_name]\n",
    "    except:\n",
    "        return False\n",
    "\n",
    "\n",
    "def add_to_db(database, document):\n",
    "    try:\n",
    "        database.insert_one(document)\n",
    "        return True\n",
    "    except errors.DuplicateKeyError:\n",
    "        return False\n",
    "\n",
    "\n",
    "def enum_valutes(seld, database_name, index, unique=True):\n",
    "    try:\n",
    "        url = 'http://www.cbr.ru/DailyInfoWebServ/DailyInfo.asmx?WSDL'\n",
    "        client = Client(url)\n",
    "        result = client.service.EnumValutes(seld)\n",
    "    \n",
    "        db = create_db(database_name, index, unique)\n",
    "    \n",
    "        for value in result._value_1._value_1:\n",
    "            doc = {\n",
    "                'Vcode': value['EnumValutes']['Vcode'],\n",
    "                'Vname': value['EnumValutes']['Vname'],\n",
    "                'VEngname': value['EnumValutes']['VEngname'],\n",
    "                'VcharCode': value['EnumValutes']['VcharCode']\n",
    "            }\n",
    "            add_to_db(db, doc)\n",
    "        return db\n",
    "    except:\n",
    "        return False\n",
    "    \n",
    "\n",
    "def get_currency_code(database, vcharcode):\n",
    "    try:\n",
    "        vcode = database.find_one({'VcharCode': vcharcode})['Vcode']\n",
    "        return vcode\n",
    "    except:\n",
    "        return False\n",
    "\n",
    "    \n",
    "def get_curs_dynamic(database_name, index, currency_database, vcharcode, from_date, to_date):\n",
    "    try:\n",
    "        valuta_code = get_currency_code(currency_database, vcharcode)\n",
    "        \n",
    "        url = 'http://www.cbr.ru/DailyInfoWebServ/DailyInfo.asmx?WSDL'\n",
    "        client = Client(url)\n",
    "        result = client.service.GetCursDynamic(from_date, to_date, valuta_code)\n",
    "        \n",
    "        db = create_db(database_name, index)\n",
    "        \n",
    "        for value in result._value_1._value_1:\n",
    "            doc = {\n",
    "                'VcharCode': vcharcode,\n",
    "                'CursDate': value['ValuteCursDynamic']['CursDate'],\n",
    "                'Vcurs': float(value['ValuteCursDynamic']['Vcurs'].to_eng_string())\n",
    "            }\n",
    "            add_to_db(db, doc)\n",
    "        return db\n",
    "    except err:\n",
    "        print(err)"
   ]
  },
  {
   "cell_type": "code",
   "execution_count": 3,
   "metadata": {
    "ExecuteTime": {
     "end_time": "2019-08-22T18:50:09.089704Z",
     "start_time": "2019-08-22T18:50:08.776152Z"
    }
   },
   "outputs": [],
   "source": [
    "currency_db = enum_valutes(False, 'currency', 'VcharCode', True)"
   ]
  },
  {
   "cell_type": "code",
   "execution_count": 4,
   "metadata": {
    "ExecuteTime": {
     "end_time": "2019-08-22T18:50:09.110648Z",
     "start_time": "2019-08-22T18:50:09.091698Z"
    }
   },
   "outputs": [
    {
     "data": {
      "text/plain": [
       "{'_id': ObjectId('5d5ed2e8cc551af5dce19f64'),\n",
       " 'Vcode': 'R01235              ',\n",
       " 'Vname': 'Доллар США                                                                                                                                                                                                                                                    ',\n",
       " 'VEngname': 'US Dollar                                                                                                                                                                                                                                                     ',\n",
       " 'VcharCode': 'USD'}"
      ]
     },
     "execution_count": 4,
     "metadata": {},
     "output_type": "execute_result"
    }
   ],
   "source": [
    "currency_db.find_one({'VcharCode': 'USD'})"
   ]
  },
  {
   "cell_type": "code",
   "execution_count": 5,
   "metadata": {
    "ExecuteTime": {
     "end_time": "2019-08-22T18:50:09.363636Z",
     "start_time": "2019-08-22T18:50:09.118625Z"
    }
   },
   "outputs": [],
   "source": [
    "currency_rate_db = get_curs_dynamic('currency_rate', False, currency_db, 'USD', '2019-08-01', '2019-08-21')"
   ]
  },
  {
   "cell_type": "code",
   "execution_count": 6,
   "metadata": {
    "ExecuteTime": {
     "end_time": "2019-08-22T18:50:09.377590Z",
     "start_time": "2019-08-22T18:50:09.369613Z"
    }
   },
   "outputs": [
    {
     "data": {
      "text/plain": [
       "{'_id': ObjectId('5d5ee3e19ea2f27ec6a820e7'),\n",
       " 'VcharCode': 'USD',\n",
       " 'CursDate': datetime.datetime(2019, 7, 31, 21, 0),\n",
       " 'Vcurs': 63.4172}"
      ]
     },
     "execution_count": 6,
     "metadata": {},
     "output_type": "execute_result"
    }
   ],
   "source": [
    "currency_rate_db.find_one({'VcharCode': 'USD'})"
   ]
  },
  {
   "cell_type": "markdown",
   "metadata": {},
   "source": [
    "#### 3. Сделать вывод информативным: Валюту <Валюта> выгодно было купить <Дата>, а продать <Дата>. Прибыль: <Разница в цене валюты>."
   ]
  },
  {
   "cell_type": "code",
   "execution_count": null,
   "metadata": {},
   "outputs": [],
   "source": []
  },
  {
   "cell_type": "markdown",
   "metadata": {},
   "source": [
    "#### 4. Доработать приложение по вакансиям. При наличии вакансии с зарплатой отличной от руб. приложение должно осущетсвлять автоматический перевод по курсу валюты на сегодняшний день. Информацию получать через SOAP-сервис центробанка."
   ]
  },
  {
   "cell_type": "code",
   "execution_count": null,
   "metadata": {},
   "outputs": [],
   "source": []
  }
 ],
 "metadata": {
  "kernelspec": {
   "display_name": "Python 3",
   "language": "python",
   "name": "python3"
  },
  "language_info": {
   "codemirror_mode": {
    "name": "ipython",
    "version": 3
   },
   "file_extension": ".py",
   "mimetype": "text/x-python",
   "name": "python",
   "nbconvert_exporter": "python",
   "pygments_lexer": "ipython3",
   "version": "3.7.3"
  }
 },
 "nbformat": 4,
 "nbformat_minor": 2
}

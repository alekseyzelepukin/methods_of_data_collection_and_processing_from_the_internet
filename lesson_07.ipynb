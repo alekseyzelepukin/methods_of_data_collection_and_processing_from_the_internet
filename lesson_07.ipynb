{
 "cells": [
  {
   "cell_type": "markdown",
   "metadata": {},
   "source": [
    "#### 1. Создать приложение, которое будет из готового файла с данными «Сбербанка» выводить результат по параметрам:\n",
    "- Тип данных\n",
    "- Интервал дат\n",
    "- Область"
   ]
  },
  {
   "cell_type": "code",
   "execution_count": 1,
   "metadata": {
    "ExecuteTime": {
     "end_time": "2019-08-28T20:22:25.013468Z",
     "start_time": "2019-08-28T20:22:24.091900Z"
    }
   },
   "outputs": [],
   "source": [
    "import pandas as pd\n",
    "import numpy as np\n",
    "import matplotlib.pyplot as plt\n",
    "%matplotlib inline"
   ]
  },
  {
   "cell_type": "code",
   "execution_count": 2,
   "metadata": {
    "ExecuteTime": {
     "end_time": "2019-08-28T20:22:25.109196Z",
     "start_time": "2019-08-28T20:22:25.015949Z"
    }
   },
   "outputs": [],
   "source": [
    "df = pd.read_csv('opendata.csv', index_col=False, encoding='cp1251')"
   ]
  },
  {
   "cell_type": "code",
   "execution_count": 3,
   "metadata": {
    "ExecuteTime": {
     "end_time": "2019-08-28T20:22:25.127551Z",
     "start_time": "2019-08-28T20:22:25.111677Z"
    }
   },
   "outputs": [
    {
     "data": {
      "text/html": [
       "<div>\n",
       "<style scoped>\n",
       "    .dataframe tbody tr th:only-of-type {\n",
       "        vertical-align: middle;\n",
       "    }\n",
       "\n",
       "    .dataframe tbody tr th {\n",
       "        vertical-align: top;\n",
       "    }\n",
       "\n",
       "    .dataframe thead th {\n",
       "        text-align: right;\n",
       "    }\n",
       "</style>\n",
       "<table border=\"1\" class=\"dataframe\">\n",
       "  <thead>\n",
       "    <tr style=\"text-align: right;\">\n",
       "      <th></th>\n",
       "      <th>name</th>\n",
       "      <th>region</th>\n",
       "      <th>date</th>\n",
       "      <th>value</th>\n",
       "    </tr>\n",
       "  </thead>\n",
       "  <tbody>\n",
       "    <tr>\n",
       "      <td>0</td>\n",
       "      <td>Количество заявок на потребительские кредиты</td>\n",
       "      <td>Россия</td>\n",
       "      <td>2013-01-15</td>\n",
       "      <td>571147</td>\n",
       "    </tr>\n",
       "    <tr>\n",
       "      <td>1</td>\n",
       "      <td>Количество заявок на потребительские кредиты</td>\n",
       "      <td>Россия</td>\n",
       "      <td>2013-02-15</td>\n",
       "      <td>504508</td>\n",
       "    </tr>\n",
       "  </tbody>\n",
       "</table>\n",
       "</div>"
      ],
      "text/plain": [
       "                                           name  region        date   value\n",
       "0  Количество заявок на потребительские кредиты  Россия  2013-01-15  571147\n",
       "1  Количество заявок на потребительские кредиты  Россия  2013-02-15  504508"
      ]
     },
     "execution_count": 3,
     "metadata": {},
     "output_type": "execute_result"
    }
   ],
   "source": [
    "df.head(2)"
   ]
  },
  {
   "cell_type": "code",
   "execution_count": 4,
   "metadata": {
    "ExecuteTime": {
     "end_time": "2019-08-28T20:22:25.156317Z",
     "start_time": "2019-08-28T20:22:25.131021Z"
    }
   },
   "outputs": [
    {
     "data": {
      "text/plain": [
       "array(['Количество заявок на потребительские кредиты',\n",
       "       'Средняя сумма заявки на потребительский кредит',\n",
       "       'Количество заявок на ипотечные кредиты',\n",
       "       'Средняя сумма заявки на ипотечный кредит',\n",
       "       'Количество новых депозитов', 'Средняя сумма нового депозита',\n",
       "       'Средняя зарплата', 'Средняя пенсия',\n",
       "       'В среднем руб. на текущем счете на человека',\n",
       "       'В среднем депозитов в руб. на человека',\n",
       "       'Средние расходы по картам', 'Средний чек в формате Фастфуд',\n",
       "       'Средний чек в формате Ресторан',\n",
       "       'Средние траты в ресторане фастфуд', 'Средние траты в ресторане'],\n",
       "      dtype=object)"
      ]
     },
     "execution_count": 4,
     "metadata": {},
     "output_type": "execute_result"
    }
   ],
   "source": [
    "df.name.unique()"
   ]
  },
  {
   "cell_type": "code",
   "execution_count": 5,
   "metadata": {
    "ExecuteTime": {
     "end_time": "2019-08-28T20:22:25.169213Z",
     "start_time": "2019-08-28T20:22:25.159293Z"
    }
   },
   "outputs": [],
   "source": [
    "def get_result(data, name='Средняя зарплата', region='Россия', from_date='2018-01-15', to_date='2019-01-15'):\n",
    "    try:\n",
    "        result = data.copy()\n",
    "        result = result[result.name == name]\n",
    "        result = result[result.region == region]\n",
    "        result = result[(result.date >= from_date) & (result.date <= to_date)]\n",
    "        return result[['date', 'value']].sort_values(by=['date']).reset_index(drop=True)\n",
    "    except Exception as e:\n",
    "        return e\n",
    "    "
   ]
  },
  {
   "cell_type": "code",
   "execution_count": 6,
   "metadata": {
    "ExecuteTime": {
     "end_time": "2019-08-28T20:22:25.202941Z",
     "start_time": "2019-08-28T20:22:25.172685Z"
    }
   },
   "outputs": [],
   "source": [
    "result = get_result(df)"
   ]
  },
  {
   "cell_type": "code",
   "execution_count": 7,
   "metadata": {
    "ExecuteTime": {
     "end_time": "2019-08-28T20:22:25.220797Z",
     "start_time": "2019-08-28T20:22:25.209390Z"
    }
   },
   "outputs": [
    {
     "data": {
      "text/html": [
       "<div>\n",
       "<style scoped>\n",
       "    .dataframe tbody tr th:only-of-type {\n",
       "        vertical-align: middle;\n",
       "    }\n",
       "\n",
       "    .dataframe tbody tr th {\n",
       "        vertical-align: top;\n",
       "    }\n",
       "\n",
       "    .dataframe thead th {\n",
       "        text-align: right;\n",
       "    }\n",
       "</style>\n",
       "<table border=\"1\" class=\"dataframe\">\n",
       "  <thead>\n",
       "    <tr style=\"text-align: right;\">\n",
       "      <th></th>\n",
       "      <th>date</th>\n",
       "      <th>value</th>\n",
       "    </tr>\n",
       "  </thead>\n",
       "  <tbody>\n",
       "    <tr>\n",
       "      <td>0</td>\n",
       "      <td>2018-01-15</td>\n",
       "      <td>24286</td>\n",
       "    </tr>\n",
       "    <tr>\n",
       "      <td>1</td>\n",
       "      <td>2018-02-15</td>\n",
       "      <td>33641</td>\n",
       "    </tr>\n",
       "    <tr>\n",
       "      <td>2</td>\n",
       "      <td>2018-03-15</td>\n",
       "      <td>33321</td>\n",
       "    </tr>\n",
       "    <tr>\n",
       "      <td>3</td>\n",
       "      <td>2018-04-15</td>\n",
       "      <td>35417</td>\n",
       "    </tr>\n",
       "    <tr>\n",
       "      <td>4</td>\n",
       "      <td>2018-05-15</td>\n",
       "      <td>32869</td>\n",
       "    </tr>\n",
       "  </tbody>\n",
       "</table>\n",
       "</div>"
      ],
      "text/plain": [
       "         date  value\n",
       "0  2018-01-15  24286\n",
       "1  2018-02-15  33641\n",
       "2  2018-03-15  33321\n",
       "3  2018-04-15  35417\n",
       "4  2018-05-15  32869"
      ]
     },
     "execution_count": 7,
     "metadata": {},
     "output_type": "execute_result"
    }
   ],
   "source": [
    "result.head()"
   ]
  },
  {
   "cell_type": "markdown",
   "metadata": {},
   "source": [
    "#### 2. Визуализировать выводимые данные с помощью графика."
   ]
  },
  {
   "cell_type": "code",
   "execution_count": 8,
   "metadata": {
    "ExecuteTime": {
     "end_time": "2019-08-28T20:22:25.235678Z",
     "start_time": "2019-08-28T20:22:25.227245Z"
    }
   },
   "outputs": [],
   "source": [
    "def draw_graph(data, name='Средняя зарплата', region='Россия', from_date='2018-01-15', to_date='2019-01-15'):\n",
    "    try:\n",
    "        r = get_result(data, name, region, from_date, to_date)\n",
    "        fig = plt.figure(figsize=(20, 10))\n",
    "        ax = fig.add_subplot(111)\n",
    "        ax.plot(r.date, r.value)\n",
    "        plt.title(name + '\\n' + region)\n",
    "    except Exception as e:\n",
    "        return e"
   ]
  },
  {
   "cell_type": "code",
   "execution_count": 9,
   "metadata": {
    "ExecuteTime": {
     "end_time": "2019-08-28T20:22:25.691006Z",
     "start_time": "2019-08-28T20:22:25.240141Z"
    }
   },
   "outputs": [
    {
     "data": {
      "image/png": "[encoded data removed]",
      "text/plain": [
       "<Figure size 1440x720 with 1 Axes>"
      ]
     },
     "metadata": {
      "needs_background": "light"
     },
     "output_type": "display_data"
    }
   ],
   "source": [
    "draw_graph(df, 'Средние траты в ресторане фастфуд', 'Калининградская область')"
   ]
  },
  {
   "cell_type": "code",
   "execution_count": null,
   "metadata": {},
   "outputs": [],
   "source": []
  }
 ],
 "metadata": {
  "kernelspec": {
   "display_name": "Python 3",
   "language": "python",
   "name": "python3"
  },
  "language_info": {
   "codemirror_mode": {
    "name": "ipython",
    "version": 3
   },
   "file_extension": ".py",
   "mimetype": "text/x-python",
   "name": "python",
   "nbconvert_exporter": "python",
   "pygments_lexer": "ipython3",
   "version": "3.7.3"
  }
 },
 "nbformat": 4,
 "nbformat_minor": 2
}
